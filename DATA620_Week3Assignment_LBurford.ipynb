{
 "cells": [
  {
   "cell_type": "code",
   "execution_count": 1,
   "metadata": {
    "collapsed": false
   },
   "outputs": [],
   "source": [
    "import graphlab as gl\n",
    "gl.canvas.set_target('ipynb') \n",
    "import networkx as nx\n",
    "from networkx import *"
   ]
  },
  {
   "cell_type": "code",
   "execution_count": 2,
   "metadata": {
    "collapsed": false
   },
   "outputs": [],
   "source": [
    "G = nx.read_weighted_edgelist('stormofswords_edges_noheader.csv',delimiter=\",\")"
   ]
  },
  {
   "cell_type": "code",
   "execution_count": 3,
   "metadata": {
    "collapsed": false
   },
   "outputs": [
    {
     "name": "stdout",
     "output_type": "stream",
     "text": [
      "(u'Jon Arryn', u'Lysa')\n",
      "(u'Jon Arryn', u'Robert')\n",
      "(u'Val', u'Tywin')\n",
      "(u'Val', u'Dalla')\n",
      "(u'Val', u'Mance')\n",
      "(u'Val', u'Jon')\n",
      "(u'Balon', u'Stannis')\n",
      "(u'Balon', u'Tywin')\n",
      "(u'Balon', u'Jaime')\n",
      "(u'Balon', u'Tyrion')\n",
      "(u'Balon', u'Robb')\n",
      "(u'Balon', u'Loras')\n",
      "(u'Brynden', u'Edmure')\n",
      "(u'Brynden', u'Walder')\n",
      "(u'Brynden', u'Tywin')\n",
      "(u'Brynden', u'Rickard')\n",
      "(u'Brynden', u'Catelyn')\n",
      "(u'Brynden', u'Lothar')\n",
      "(u'Brynden', u'Arya')\n",
      "(u'Brynden', u'Robb')\n",
      "(u'Loras', u'Brienne')\n",
      "(u'Loras', u'Olenna')\n",
      "(u'Loras', u'Renly')\n",
      "(u'Loras', u'Jaime')\n",
      "(u'Loras', u'Joffrey')\n",
      "(u'Loras', u'Tyrion')\n",
      "(u'Loras', u'Margaery')\n",
      "(u'Loras', u'Sansa')\n",
      "(u'Shireen', u'Davos')\n",
      "(u'Belwas', u'Daenerys')\n",
      "(u'Belwas', u'Barristan')\n",
      "(u'Belwas', u'Jorah')\n",
      "(u'Belwas', u'Illyrio')\n",
      "(u'Walton', u'Jaime')\n",
      "(u'Chataya', u'Tyrion')\n",
      "(u'Chataya', u'Shae')\n",
      "(u'Tyrion', u'Stannis')\n",
      "(u'Tyrion', u'Meryn')\n",
      "(u'Tyrion', u'Gregor')\n",
      "(u'Tyrion', u'Shae')\n",
      "(u'Tyrion', u'Robb')\n",
      "(u'Tyrion', u'Podrick')\n",
      "(u'Tyrion', u'Ellaria')\n",
      "(u'Tyrion', u'Renly')\n",
      "(u'Tyrion', u'Aerys')\n",
      "(u'Tyrion', u'Mace')\n",
      "(u'Tyrion', u'Joffrey')\n",
      "(u'Tyrion', u'Janos')\n",
      "(u'Tyrion', u'Margaery')\n",
      "(u'Tyrion', u'Oberyn')\n",
      "(u'Tyrion', u'Petyr')\n",
      "(u'Tyrion', u'Pycelle')\n",
      "(u'Tyrion', u'Kevan')\n",
      "(u'Tyrion', u'Lysa')\n",
      "(u'Tyrion', u'Bronn')\n",
      "(u'Tyrion', u'Jaime')\n",
      "(u'Tyrion', u'Varys')\n",
      "(u'Tyrion', u'Arya')\n",
      "(u'Tyrion', u'Viserys')\n",
      "(u'Tyrion', u'Myrcella')\n",
      "(u'Tyrion', u'Elia')\n",
      "(u'Tyrion', u'Sansa')\n",
      "(u'Tyrion', u'Tywin')\n",
      "(u'Tyrion', u'Cersei')\n",
      "(u'Tyrion', u'Sandor')\n",
      "(u'Tyrion', u'Catelyn')\n",
      "(u'Tyrion', u'Robert')\n",
      "(u'Tyrion', u'Doran')\n",
      "(u'Tyrion', u'Ilyn')\n",
      "(u'Margaery', u'Podrick')\n",
      "(u'Margaery', u'Sansa')\n",
      "(u'Margaery', u'Tommen')\n",
      "(u'Margaery', u'Renly')\n",
      "(u'Margaery', u'Joffrey')\n",
      "(u'Qhorin', u'Rattleshirt')\n",
      "(u'Qhorin', u'Samwell')\n",
      "(u'Qhorin', u'Ygritte')\n",
      "(u'Qhorin', u'Mance')\n",
      "(u'Qhorin', u'Jon')\n",
      "(u'Petyr', u'Sansa')\n",
      "(u'Petyr', u'Tywin')\n",
      "(u'Petyr', u'Lysa')\n",
      "(u'Petyr', u'Walder')\n",
      "(u'Petyr', u'Catelyn')\n",
      "(u'Petyr', u'Robb')\n",
      "(u'Craster', u'Gilly')\n",
      "(u'Craster', u'Samwell')\n",
      "(u'Craster', u'Jon')\n",
      "(u'Craster', u'Karl')\n",
      "(u'Craster', u'Mance')\n",
      "(u'Lancel', u'Kevan')\n",
      "(u'Kevan', u'Sansa')\n",
      "(u'Kevan', u'Tywin')\n",
      "(u'Kevan', u'Varys')\n",
      "(u'Kevan', u'Joffrey')\n",
      "(u'Lysa', u'Hoster')\n",
      "(u'Lysa', u'Sansa')\n",
      "(u'Lysa', u'Tywin')\n",
      "(u'Lysa', u'Marillion')\n",
      "(u'Lysa', u'Cersei')\n",
      "(u'Lysa', u'Catelyn')\n",
      "(u'Lysa', u'Robert Arryn')\n",
      "(u'Marillion', u'Robert Arryn')\n",
      "(u'Marillion', u'Sansa')\n",
      "(u'Varys', u'Pycelle')\n",
      "(u'Varys', u'Renly')\n",
      "(u'Varys', u'Tywin')\n",
      "(u'Varys', u'Shae')\n",
      "(u'Varys', u'Cersei')\n",
      "(u'Alliser', u'Janos')\n",
      "(u'Alliser', u'Mance')\n",
      "(u'Alliser', u'Jon')\n",
      "(u'Lothar', u'Edmure')\n",
      "(u'Lothar', u'Walder')\n",
      "(u'Lothar', u'Robb')\n",
      "(u'Lothar', u'Roslin')\n",
      "(u'Tywin', u'Stannis')\n",
      "(u'Tywin', u'Gregor')\n",
      "(u'Tywin', u'Robb')\n",
      "(u'Tywin', u'Podrick')\n",
      "(u'Tywin', u'Aerys')\n",
      "(u'Tywin', u'Mace')\n",
      "(u'Tywin', u'Joffrey')\n",
      "(u'Tywin', u'Oberyn')\n",
      "(u'Tywin', u'Pycelle')\n",
      "(u'Tywin', u'Jaime')\n",
      "(u'Tywin', u'Tommen')\n",
      "(u'Tywin', u'Cersei')\n",
      "(u'Tywin', u'Walder')\n",
      "(u'Tywin', u'Robert')\n",
      "(u'Eddard', u'Sansa')\n",
      "(u'Eddard', u'Robert')\n",
      "(u'Eddard', u'Cersei')\n",
      "(u'Eddard', u'Beric')\n",
      "(u'Eddard', u'Robb')\n",
      "(u'Eddard', u'Jaime')\n",
      "(u'Eddard', u'Catelyn')\n",
      "(u'Eddard', u'Sandor')\n",
      "(u'Eddard', u'Arya')\n",
      "(u'Eddard', u'Rickon')\n",
      "(u'Eddard', u'Bran')\n",
      "(u'Eddard', u'Jon')\n",
      "(u'Melisandre', u'Stannis')\n",
      "(u'Melisandre', u'Davos')\n",
      "(u'Melisandre', u'Samwell')\n",
      "(u'Melisandre', u'Jon')\n",
      "(u'Walder', u'Edmure')\n",
      "(u'Walder', u'Roslin')\n",
      "(u'Walder', u'Catelyn')\n",
      "(u'Walder', u'Robb')\n",
      "(u'Catelyn', u'Edmure')\n",
      "(u'Catelyn', u'Hoster')\n",
      "(u'Catelyn', u'Jeyne')\n",
      "(u'Catelyn', u'Roose')\n",
      "(u'Catelyn', u'Roslin')\n",
      "(u'Catelyn', u'Brienne')\n",
      "(u'Catelyn', u'Sansa')\n",
      "(u'Catelyn', u'Cersei')\n",
      "(u'Catelyn', u'Robb')\n",
      "(u'Catelyn', u'Stannis')\n",
      "(u'Catelyn', u'Jaime')\n",
      "(u'Catelyn', u'Bran')\n",
      "(u'Barristan', u'Rhaegar')\n",
      "(u'Barristan', u'Robert')\n",
      "(u'Barristan', u'Jorah')\n",
      "(u'Barristan', u'Jaime')\n",
      "(u'Barristan', u'Daenerys')\n",
      "(u'Daario', u'Daenerys')\n",
      "(u'Daario', u'Drogo')\n",
      "(u'Daario', u'Jorah')\n",
      "(u'Daario', u'Irri')\n",
      "(u'Robb', u'Stannis')\n",
      "(u'Robb', u'Jeyne')\n",
      "(u'Robb', u'Theon')\n",
      "(u'Robb', u'Brienne')\n",
      "(u'Robb', u'Rickard')\n",
      "(u'Robb', u'Joffrey')\n",
      "(u'Robb', u'Rickon')\n",
      "(u'Robb', u'Roose')\n",
      "(u'Robb', u'Jon')\n",
      "(u'Robb', u'Ramsay')\n",
      "(u'Robb', u'Edmure')\n",
      "(u'Robb', u'Jaime')\n",
      "(u'Robb', u'Arya')\n",
      "(u'Robb', u'Bran')\n",
      "(u'Robb', u'Sansa')\n",
      "(u'Robb', u'Hodor')\n",
      "(u'Thoros', u'Sandor')\n",
      "(u'Thoros', u'Robert')\n",
      "(u'Thoros', u'Arya')\n",
      "(u'Thoros', u'Beric')\n",
      "(u'Thoros', u'Gendry')\n",
      "(u'Dalla', u'Mance')\n",
      "(u'Dalla', u'Jon')\n",
      "(u'Mance', u'Ygritte')\n",
      "(u'Mance', u'Rattleshirt')\n",
      "(u'Mance', u'Samwell')\n",
      "(u'Mance', u'Styr')\n",
      "(u'Mance', u'Gilly')\n",
      "(u'Mance', u'Janos')\n",
      "(u'Mance', u'Jon')\n",
      "(u'Kraznys', u'Daenerys')\n",
      "(u'Salladhor', u'Davos')\n",
      "(u'Irri', u'Daenerys')\n",
      "(u'Irri', u'Missandei')\n",
      "(u'Irri', u'Drogo')\n",
      "(u'Jon', u'Stannis')\n",
      "(u'Jon', u'Ygritte')\n",
      "(u'Jon', u'Theon')\n",
      "(u'Jon', u'Robert')\n",
      "(u'Jon', u'Gilly')\n",
      "(u'Jon', u'Orell')\n",
      "(u'Jon', u'Samwell')\n",
      "(u'Jon', u'Janos')\n",
      "(u'Jon', u'Meera')\n",
      "(u'Jon', u'Rattleshirt')\n",
      "(u'Jon', u'Eddison')\n",
      "(u'Jon', u'Arya')\n",
      "(u'Jon', u'Bran')\n",
      "(u'Jon', u'Sansa')\n",
      "(u'Jon', u'Styr')\n",
      "(u'Jon', u'Grenn')\n",
      "(u'Jon', u'Aemon')\n",
      "(u'Edmure', u'Hoster')\n",
      "(u'Edmure', u'Roslin')\n",
      "(u'Edmure', u'Jaime')\n",
      "(u'Worm', u'Daenerys')\n",
      "(u'Bronn', u'Gregor')\n",
      "(u'Bronn', u'Podrick')\n",
      "(u'Bronn', u'Cersei')\n",
      "(u'Rakharo', u'Daenerys')\n",
      "(u'Rhaegar', u'Elia')\n",
      "(u'Rhaegar', u'Robert')\n",
      "(u'Rhaegar', u'Jorah')\n",
      "(u'Rhaegar', u'Daenerys')\n",
      "(u'Rhaegar', u'Viserys')\n",
      "(u'Sansa', u'Renly')\n",
      "(u'Sansa', u'Olenna')\n",
      "(u'Sansa', u'Robert')\n",
      "(u'Sansa', u'Shae')\n",
      "(u'Sansa', u'Podrick')\n",
      "(u'Sansa', u'Brienne')\n",
      "(u'Sansa', u'Bran')\n",
      "(u'Sansa', u'Joffrey')\n",
      "(u'Sansa', u'Rickon')\n",
      "(u'Sansa', u'Jaime')\n",
      "(u'Sansa', u'Arya')\n",
      "(u'Sansa', u'Myrcella')\n",
      "(u'Sansa', u'Cersei')\n",
      "(u'Sansa', u'Sandor')\n",
      "(u'Sansa', u'Robert Arryn')\n",
      "(u'Cersei', u'Meryn')\n",
      "(u'Cersei', u'Elia')\n",
      "(u'Cersei', u'Brienne')\n",
      "(u'Cersei', u'Gregor')\n",
      "(u'Cersei', u'Shae')\n",
      "(u'Cersei', u'Jaime')\n",
      "(u'Cersei', u'Joffrey')\n",
      "(u'Cersei', u'Sandor')\n",
      "(u'Cersei', u'Arya')\n",
      "(u'Cersei', u'Robert')\n",
      "(u'Cersei', u'Ilyn')\n",
      "(u'Cersei', u'Pycelle')\n",
      "(u'Brienne', u'Roose')\n",
      "(u'Brienne', u'Jaime')\n",
      "(u'Sandor', u'Meryn')\n",
      "(u'Sandor', u'Gendry')\n",
      "(u'Sandor', u'Beric')\n",
      "(u'Sandor', u'Joffrey')\n",
      "(u'Sandor', u'Robert')\n",
      "(u'Sandor', u'Arya')\n",
      "(u'Sandor', u'Gregor')\n",
      "(u'Sandor', u'Ilyn')\n",
      "(u'Qyburn', u'Jaime')\n",
      "(u'Ilyn', u'Meryn')\n",
      "(u'Ilyn', u'Gregor')\n",
      "(u'Ilyn', u'Joffrey')\n",
      "(u'Meryn', u'Gregor')\n",
      "(u'Meryn', u'Jaime')\n",
      "(u'Meryn', u'Joffrey')\n",
      "(u'Robert', u'Renly')\n",
      "(u'Robert', u'Aemon')\n",
      "(u'Robert', u'Stannis')\n",
      "(u'Robert', u'Jaime')\n",
      "(u'Robert', u'Daenerys')\n",
      "(u'Robert', u'Arya')\n",
      "(u'Robert', u'Aerys')\n",
      "(u'Gilly', u'Samwell')\n",
      "(u'Aerys', u'Jaime')\n",
      "(u'Ellaria', u'Oberyn')\n",
      "(u'Bowen', u'Samwell')\n",
      "(u'Bowen', u'Janos')\n",
      "(u'Missandei', u'Daenerys')\n",
      "(u'Jorah', u'Drogo')\n",
      "(u'Jorah', u'Daenerys')\n",
      "(u'Mace', u'Oberyn')\n",
      "(u'Janos', u'Samwell')\n",
      "(u'Meera', u'Jojen')\n",
      "(u'Meera', u'Samwell')\n",
      "(u'Meera', u'Hodor')\n",
      "(u'Meera', u'Bran')\n",
      "(u'Oberyn', u'Gregor')\n",
      "(u'Oberyn', u'Amory')\n",
      "(u'Oberyn', u'Joffrey')\n",
      "(u'Davos', u'Cressen')\n",
      "(u'Davos', u'Stannis')\n",
      "(u'Eddison', u'Grenn')\n",
      "(u'Eddison', u'Samwell')\n",
      "(u'Bran', u'Jojen')\n",
      "(u'Bran', u'Luwin')\n",
      "(u'Bran', u'Theon')\n",
      "(u'Bran', u'Samwell')\n",
      "(u'Bran', u'Nan')\n",
      "(u'Bran', u'Hodor')\n",
      "(u'Bran', u'Arya')\n",
      "(u'Bran', u'Rickon')\n",
      "(u'Elia', u'Gregor')\n",
      "(u'Elia', u'Jaime')\n",
      "(u'Roose', u'Arya')\n",
      "(u'Grenn', u'Samwell')\n",
      "(u'Grenn', u'Aemon')\n",
      "(u'Hodor', u'Jojen')\n",
      "(u'Stannis', u'Renly')\n",
      "(u'Stannis', u'Aemon')\n",
      "(u'Stannis', u'Jaime')\n",
      "(u'Stannis', u'Joffrey')\n",
      "(u'Stannis', u'Samwell')\n",
      "(u'Ygritte', u'Rattleshirt')\n",
      "(u'Luwin', u'Nan')\n",
      "(u'Gregor', u'Jaime')\n",
      "(u'Gregor', u'Joffrey')\n",
      "(u'Gregor', u'Arya')\n",
      "(u'Anguy', u'Arya')\n",
      "(u'Anguy', u'Beric')\n",
      "(u'Daenerys', u'Drogo')\n",
      "(u'Daenerys', u'Viserys')\n",
      "(u'Daenerys', u'Aegon')\n",
      "(u'Samwell', u'Jojen')\n",
      "(u'Samwell', u'Aemon')\n",
      "(u'Joffrey', u'Tommen')\n",
      "(u'Joffrey', u'Jaime')\n",
      "(u'Joffrey', u'Arya')\n",
      "(u'Joffrey', u'Myrcella')\n",
      "(u'Rickon', u'Theon')\n",
      "(u'Rickon', u'Arya')\n",
      "(u'Gendry', u'Arya')\n",
      "(u'Gendry', u'Beric')\n",
      "(u'Renly', u'Jaime')\n",
      "(u'Beric', u'Arya')\n",
      "(u'Arya', u'Jaime')\n",
      "(u'Myrcella', u'Tommen')\n",
      "(u'Tommen', u'Jaime')\n"
     ]
    }
   ],
   "source": [
    "for e in G.edges():\n",
    "    print e"
   ]
  },
  {
   "cell_type": "code",
   "execution_count": 4,
   "metadata": {
    "collapsed": false
   },
   "outputs": [
    {
     "name": "stdout",
     "output_type": "stream",
     "text": [
      "radius: 3\n",
      "diameter: 6\n",
      "eccentricity: {u'Jon Arryn': 4, u'Val': 5, u'Balon': 4, u'Brynden': 5, u'Shireen': 6, u'Belwas': 5, u'Walton': 5, u'Chataya': 5, u'Tyrion': 4, u'Margaery': 5, u'Qhorin': 5, u'Petyr': 5, u'Craster': 5, u'Lancel': 6, u'Kevan': 5, u'Lysa': 5, u'Marillion': 5, u'Varys': 5, u'Alliser': 5, u'Lothar': 5, u'Tywin': 4, u'Eddard': 4, u'Melisandre': 5, u'Walder': 5, u'Loras': 4, u'Jojen': 6, u'Daario': 5, u'Robb': 4, u'Thoros': 4, u'Dalla': 5, u'Mance': 5, u'Gendry': 5, u'Rickard': 5, u'Salladhor': 6, u'Irri': 5, u'Jon': 4, u'Catelyn': 4, u'Edmure': 4, u'Worm': 5, u'Bronn': 5, u'Rakharo': 5, u'Hoster': 5, u'Rhaegar': 4, u'Sansa': 4, u'Cersei': 4, u'Bowen': 6, u'Sandor': 4, u'Qyburn': 5, u'Ilyn': 5, u'Meryn': 5, u'Olenna': 5, u'Robert': 3, u'Gilly': 5, u'Shae': 5, u'Aerys': 4, u'Ellaria': 5, u'Brienne': 4, u'Viserys': 5, u'Jorah': 5, u'Mace': 5, u'Janos': 5, u'Meera': 5, u'Oberyn': 5, u'Davos': 5, u'Eddison': 5, u'Bran': 5, u'Elia': 5, u'Roose': 5, u'Grenn': 5, u'Hodor': 5, u'Ramsay': 5, u'Stannis': 4, u'Jeyne': 5, u'Ygritte': 5, u'Luwin': 6, u'Roslin': 5, u'Gregor': 4, u'Nan': 6, u'Anguy': 5, u'Cressen': 6, u'Illyrio': 6, u'Daenerys': 4, u'Aegon': 5, u'Podrick': 5, u'Orell': 5, u'Samwell': 5, u'Amory': 6, u'Joffrey': 4, u'Rickon': 5, u'Barristan': 4, u'Pycelle': 5, u'Kraznys': 5, u'Rattleshirt': 5, u'Renly': 4, u'Theon': 5, u'Beric': 5, u'Arya': 4, u'Missandei': 5, u'Myrcella': 5, u'Drogo': 5, u'Doran': 5, u'Tommen': 5, u'Styr': 5, u'Jaime': 4, u'Robert Arryn': 5, u'Aemon': 4, u'Karl': 6}\n",
      "center: [u'Robert']\n",
      "periphery: [u'Shireen', u'Lancel', u'Jojen', u'Salladhor', u'Bowen', u'Luwin', u'Nan', u'Cressen', u'Illyrio', u'Amory', u'Karl']\n",
      "density: 0.0620701816258\n"
     ]
    }
   ],
   "source": [
    "print(\"radius: %d\" % radius(G))\n",
    "print(\"diameter: %d\" % diameter(G))\n",
    "print(\"eccentricity: %s\" % eccentricity(G))\n",
    "print(\"center: %s\" % center(G))\n",
    "print(\"periphery: %s\" % periphery(G))\n",
    "print(\"density: %s\" % density(G))\n"
   ]
  },
  {
   "cell_type": "code",
   "execution_count": 5,
   "metadata": {
    "collapsed": false
   },
   "outputs": [
    {
     "name": "stderr",
     "output_type": "stream",
     "text": [
      "[INFO] graphlab.cython.cy_server: GraphLab Create v2.1 started. Logging: C:\\Users\\lburford\\AppData\\Local\\Temp\\graphlab_server_1474145580.log.0\n"
     ]
    },
    {
     "name": "stdout",
     "output_type": "stream",
     "text": [
      "This non-commercial license of GraphLab Create for academic use is assigned to lara.burford@spsmail.cuny.edu and will expire on September 01, 2017.\n"
     ]
    },
    {
     "data": {
      "text/html": [
       "<pre>Finished parsing file C:\\Users\\lburford\\Documents\\tutorials-master\\tutorials-master\\notebooks\\stormofswords_vertices.csv</pre>"
      ],
      "text/plain": [
       "Finished parsing file C:\\Users\\lburford\\Documents\\tutorials-master\\tutorials-master\\notebooks\\stormofswords_vertices.csv"
      ]
     },
     "metadata": {},
     "output_type": "display_data"
    },
    {
     "data": {
      "text/html": [
       "<pre>Parsing completed. Parsed 100 lines in 0.024941 secs.</pre>"
      ],
      "text/plain": [
       "Parsing completed. Parsed 100 lines in 0.024941 secs."
      ]
     },
     "metadata": {},
     "output_type": "display_data"
    },
    {
     "name": "stdout",
     "output_type": "stream",
     "text": [
      "------------------------------------------------------\n",
      "Inferred types from first 100 line(s) of file as \n",
      "column_type_hints=[str]\n",
      "If parsing fails due to incorrect types, you can correct\n",
      "the inferred type list above and pass it to read_csv in\n",
      "the column_type_hints argument\n",
      "------------------------------------------------------\n"
     ]
    },
    {
     "data": {
      "text/html": [
       "<pre>Finished parsing file C:\\Users\\lburford\\Documents\\tutorials-master\\tutorials-master\\notebooks\\stormofswords_vertices.csv</pre>"
      ],
      "text/plain": [
       "Finished parsing file C:\\Users\\lburford\\Documents\\tutorials-master\\tutorials-master\\notebooks\\stormofswords_vertices.csv"
      ]
     },
     "metadata": {},
     "output_type": "display_data"
    },
    {
     "data": {
      "text/html": [
       "<pre>Parsing completed. Parsed 107 lines in 0.037253 secs.</pre>"
      ],
      "text/plain": [
       "Parsing completed. Parsed 107 lines in 0.037253 secs."
      ]
     },
     "metadata": {},
     "output_type": "display_data"
    },
    {
     "data": {
      "text/html": [
       "<pre>Finished parsing file C:\\Users\\lburford\\Documents\\tutorials-master\\tutorials-master\\notebooks\\stormofswords_edges.csv</pre>"
      ],
      "text/plain": [
       "Finished parsing file C:\\Users\\lburford\\Documents\\tutorials-master\\tutorials-master\\notebooks\\stormofswords_edges.csv"
      ]
     },
     "metadata": {},
     "output_type": "display_data"
    },
    {
     "data": {
      "text/html": [
       "<pre>Parsing completed. Parsed 100 lines in 0.029968 secs.</pre>"
      ],
      "text/plain": [
       "Parsing completed. Parsed 100 lines in 0.029968 secs."
      ]
     },
     "metadata": {},
     "output_type": "display_data"
    },
    {
     "name": "stdout",
     "output_type": "stream",
     "text": [
      "------------------------------------------------------\n",
      "Inferred types from first 100 line(s) of file as \n",
      "column_type_hints=[str,str,long]\n",
      "If parsing fails due to incorrect types, you can correct\n",
      "the inferred type list above and pass it to read_csv in\n",
      "the column_type_hints argument\n",
      "------------------------------------------------------\n"
     ]
    },
    {
     "data": {
      "text/html": [
       "<pre>Finished parsing file C:\\Users\\lburford\\Documents\\tutorials-master\\tutorials-master\\notebooks\\stormofswords_edges.csv</pre>"
      ],
      "text/plain": [
       "Finished parsing file C:\\Users\\lburford\\Documents\\tutorials-master\\tutorials-master\\notebooks\\stormofswords_edges.csv"
      ]
     },
     "metadata": {},
     "output_type": "display_data"
    },
    {
     "data": {
      "text/html": [
       "<pre>Parsing completed. Parsed 352 lines in 0.02251 secs.</pre>"
      ],
      "text/plain": [
       "Parsing completed. Parsed 352 lines in 0.02251 secs."
      ]
     },
     "metadata": {},
     "output_type": "display_data"
    }
   ],
   "source": [
    "vertices = gl.SFrame.read_csv('stormofswords_vertices.csv')\n",
    "edges = gl.SFrame.read_csv('stormofswords_edges.csv')"
   ]
  },
  {
   "cell_type": "code",
   "execution_count": 6,
   "metadata": {
    "collapsed": false
   },
   "outputs": [
    {
     "data": {
      "application/javascript": [
       "$(\"head\").append($(\"<link/>\").attr({\n",
       "  rel:  \"stylesheet\",\n",
       "  type: \"text/css\",\n",
       "  href: \"//cdnjs.cloudflare.com/ajax/libs/font-awesome/4.1.0/css/font-awesome.min.css\"\n",
       "}));\n",
       "$(\"head\").append($(\"<link/>\").attr({\n",
       "  rel:  \"stylesheet\",\n",
       "  type: \"text/css\",\n",
       "  href: \"https://static.turi.com/products/graphlab-create/2.1/canvas/css/canvas.css\"\n",
       "}));\n",
       "\n",
       "            (function(){\n",
       "\n",
       "                var e = null;\n",
       "                if (typeof element == 'undefined') {\n",
       "                    var scripts = document.getElementsByTagName('script');\n",
       "                    var thisScriptTag = scripts[scripts.length-1];\n",
       "                    var parentDiv = thisScriptTag.parentNode;\n",
       "                    e = document.createElement('div');\n",
       "                    parentDiv.appendChild(e);\n",
       "                } else {\n",
       "                    e = element[0];\n",
       "                }\n",
       "\n",
       "                if (typeof requirejs !== 'undefined') {\n",
       "                    // disable load timeout; ipython_app.js is large and can take a while to load.\n",
       "                    requirejs.config({waitSeconds: 0});\n",
       "                }\n",
       "\n",
       "                require(['https://static.turi.com/products/graphlab-create/2.1/canvas/js/ipython_app.js'], function(IPythonApp){\n",
       "                    var app = new IPythonApp();\n",
       "                    app.attachView('sframe','Summary', {\"ipython\": true, \"sketch\": {\"Name\": {\"complete\": true, \"numeric\": false, \"num_unique\": 107, \"num_undefined\": 0, \"progress\": 1.0, \"frequent_items\": {\"Jon Arryn\": {\"frequency\": 1, \"value\": \"Jon Arryn\"}, \"Val\": {\"frequency\": 1, \"value\": \"Val\"}, \"Balon\": {\"frequency\": 1, \"value\": \"Balon\"}, \"Brynden\": {\"frequency\": 1, \"value\": \"Brynden\"}, \"Shireen\": {\"frequency\": 1, \"value\": \"Shireen\"}, \"Belwas\": {\"frequency\": 1, \"value\": \"Belwas\"}, \"Walton\": {\"frequency\": 1, \"value\": \"Walton\"}, \"Chataya\": {\"frequency\": 1, \"value\": \"Chataya\"}, \"Tyrion\": {\"frequency\": 1, \"value\": \"Tyrion\"}, \"Margaery\": {\"frequency\": 1, \"value\": \"Margaery\"}, \"Qhorin\": {\"frequency\": 1, \"value\": \"Qhorin\"}, \"Petyr\": {\"frequency\": 1, \"value\": \"Petyr\"}, \"Craster\": {\"frequency\": 1, \"value\": \"Craster\"}, \"Lancel\": {\"frequency\": 1, \"value\": \"Lancel\"}, \"Kevan\": {\"frequency\": 1, \"value\": \"Kevan\"}, \"Lysa\": {\"frequency\": 1, \"value\": \"Lysa\"}, \"Marillion\": {\"frequency\": 1, \"value\": \"Marillion\"}, \"Beric\": {\"frequency\": 1, \"value\": \"Beric\"}, \"Jaime\": {\"frequency\": 1, \"value\": \"Jaime\"}, \"Lothar\": {\"frequency\": 1, \"value\": \"Lothar\"}, \"Tywin\": {\"frequency\": 1, \"value\": \"Tywin\"}, \"Eddard\": {\"frequency\": 1, \"value\": \"Eddard\"}, \"Melisandre\": {\"frequency\": 1, \"value\": \"Melisandre\"}, \"Walder\": {\"frequency\": 1, \"value\": \"Walder\"}, \"Loras\": {\"frequency\": 1, \"value\": \"Loras\"}, \"Jojen\": {\"frequency\": 1, \"value\": \"Jojen\"}, \"Daario\": {\"frequency\": 1, \"value\": \"Daario\"}, \"Robb\": {\"frequency\": 1, \"value\": \"Robb\"}, \"Thoros\": {\"frequency\": 1, \"value\": \"Thoros\"}, \"Dalla\": {\"frequency\": 1, \"value\": \"Dalla\"}, \"Mance\": {\"frequency\": 1, \"value\": \"Mance\"}, \"Kraznys\": {\"frequency\": 1, \"value\": \"Kraznys\"}, \"Rickard\": {\"frequency\": 1, \"value\": \"Rickard\"}, \"Salladhor\": {\"frequency\": 1, \"value\": \"Salladhor\"}, \"Irri\": {\"frequency\": 1, \"value\": \"Irri\"}, \"Jon\": {\"frequency\": 1, \"value\": \"Jon\"}, \"Catelyn\": {\"frequency\": 1, \"value\": \"Catelyn\"}, \"Edmure\": {\"frequency\": 1, \"value\": \"Edmure\"}, \"Worm\": {\"frequency\": 1, \"value\": \"Worm\"}, \"Bronn\": {\"frequency\": 1, \"value\": \"Bronn\"}, \"Rakharo\": {\"frequency\": 1, \"value\": \"Rakharo\"}, \"Hoster\": {\"frequency\": 1, \"value\": \"Hoster\"}, \"Rhaegar\": {\"frequency\": 1, \"value\": \"Rhaegar\"}, \"Sansa\": {\"frequency\": 1, \"value\": \"Sansa\"}, \"Cersei\": {\"frequency\": 1, \"value\": \"Cersei\"}, \"Bowen\": {\"frequency\": 1, \"value\": \"Bowen\"}, \"Sandor\": {\"frequency\": 1, \"value\": \"Sandor\"}, \"Qyburn\": {\"frequency\": 1, \"value\": \"Qyburn\"}, \"Ilyn\": {\"frequency\": 1, \"value\": \"Ilyn\"}, \"Meryn\": {\"frequency\": 1, \"value\": \"Meryn\"}, \"Olenna\": {\"frequency\": 1, \"value\": \"Olenna\"}, \"Robert\": {\"frequency\": 1, \"value\": \"Robert\"}, \"Gilly\": {\"frequency\": 1, \"value\": \"Gilly\"}, \"Shae\": {\"frequency\": 1, \"value\": \"Shae\"}, \"Aerys\": {\"frequency\": 1, \"value\": \"Aerys\"}, \"Ellaria\": {\"frequency\": 1, \"value\": \"Ellaria\"}, \"Brienne\": {\"frequency\": 1, \"value\": \"Brienne\"}, \"Missandei\": {\"frequency\": 1, \"value\": \"Missandei\"}, \"Jorah\": {\"frequency\": 1, \"value\": \"Jorah\"}, \"Mace\": {\"frequency\": 1, \"value\": \"Mace\"}, \"Janos\": {\"frequency\": 1, \"value\": \"Janos\"}, \"Meera\": {\"frequency\": 1, \"value\": \"Meera\"}, \"Oberyn\": {\"frequency\": 1, \"value\": \"Oberyn\"}, \"Davos\": {\"frequency\": 1, \"value\": \"Davos\"}, \"Eddison\": {\"frequency\": 1, \"value\": \"Eddison\"}, \"Bran\": {\"frequency\": 1, \"value\": \"Bran\"}, \"Elia\": {\"frequency\": 1, \"value\": \"Elia\"}, \"Roose\": {\"frequency\": 1, \"value\": \"Roose\"}, \"Grenn\": {\"frequency\": 1, \"value\": \"Grenn\"}, \"Hodor\": {\"frequency\": 1, \"value\": \"Hodor\"}, \"Ramsay\": {\"frequency\": 1, \"value\": \"Ramsay\"}, \"Stannis\": {\"frequency\": 1, \"value\": \"Stannis\"}, \"Jeyne\": {\"frequency\": 1, \"value\": \"Jeyne\"}, \"Ygritte\": {\"frequency\": 1, \"value\": \"Ygritte\"}, \"Luwin\": {\"frequency\": 1, \"value\": \"Luwin\"}, \"Roslin\": {\"frequency\": 1, \"value\": \"Roslin\"}, \"Gregor\": {\"frequency\": 1, \"value\": \"Gregor\"}, \"Nan\": {\"frequency\": 1, \"value\": \"Nan\"}, \"Anguy\": {\"frequency\": 1, \"value\": \"Anguy\"}, \"Cressen\": {\"frequency\": 1, \"value\": \"Cressen\"}, \"Illyrio\": {\"frequency\": 1, \"value\": \"Illyrio\"}, \"Daenerys\": {\"frequency\": 1, \"value\": \"Daenerys\"}, \"Aegon\": {\"frequency\": 1, \"value\": \"Aegon\"}, \"Podrick\": {\"frequency\": 1, \"value\": \"Podrick\"}, \"Orell\": {\"frequency\": 1, \"value\": \"Orell\"}, \"Samwell\": {\"frequency\": 1, \"value\": \"Samwell\"}, \"Amory\": {\"frequency\": 1, \"value\": \"Amory\"}, \"Joffrey\": {\"frequency\": 1, \"value\": \"Joffrey\"}, \"Rickon\": {\"frequency\": 1, \"value\": \"Rickon\"}, \"Barristan\": {\"frequency\": 1, \"value\": \"Barristan\"}, \"Pycelle\": {\"frequency\": 1, \"value\": \"Pycelle\"}, \"Gendry\": {\"frequency\": 1, \"value\": \"Gendry\"}, \"Rattleshirt\": {\"frequency\": 1, \"value\": \"Rattleshirt\"}, \"Renly\": {\"frequency\": 1, \"value\": \"Renly\"}, \"Theon\": {\"frequency\": 1, \"value\": \"Theon\"}, \"Varys\": {\"frequency\": 1, \"value\": \"Varys\"}, \"Arya\": {\"frequency\": 1, \"value\": \"Arya\"}, \"Viserys\": {\"frequency\": 1, \"value\": \"Viserys\"}, \"Myrcella\": {\"frequency\": 1, \"value\": \"Myrcella\"}, \"Drogo\": {\"frequency\": 1, \"value\": \"Drogo\"}, \"Doran\": {\"frequency\": 1, \"value\": \"Doran\"}, \"Tommen\": {\"frequency\": 1, \"value\": \"Tommen\"}, \"Styr\": {\"frequency\": 1, \"value\": \"Styr\"}, \"Alliser\": {\"frequency\": 1, \"value\": \"Alliser\"}, \"Robert Arryn\": {\"frequency\": 1, \"value\": \"Robert Arryn\"}, \"Aemon\": {\"frequency\": 1, \"value\": \"Aemon\"}, \"Karl\": {\"frequency\": 1, \"value\": \"Karl\"}}, \"size\": 107}}, \"selected_variable\": {\"name\": [\"vertices\"], \"descriptives\": {\"rows\": 107, \"columns\": 1}, \"view_component\": \"Summary\", \"view_file\": \"sframe\", \"view_params\": {\"y\": null, \"x\": null, \"columns\": [\"Name\"], \"view\": null}, \"view_components\": [\"Summary\", \"Table\", \"Bar Chart\", \"BoxWhisker Plot\", \"Line Chart\", \"Scatter Plot\", \"Heat Map\", \"Plots\"], \"type\": \"SFrame\", \"columns\": [{\"dtype\": \"str\", \"name\": \"Name\"}], \"column_identifiers\": [\"Name\"]}, \"columns\": [{\"dtype\": \"str\", \"name\": \"Name\"}]}, e);\n",
       "                });\n",
       "            })();\n",
       "        "
      ]
     },
     "metadata": {},
     "output_type": "display_data"
    },
    {
     "data": {
      "application/javascript": [
       "$(\"head\").append($(\"<link/>\").attr({\n",
       "  rel:  \"stylesheet\",\n",
       "  type: \"text/css\",\n",
       "  href: \"//cdnjs.cloudflare.com/ajax/libs/font-awesome/4.1.0/css/font-awesome.min.css\"\n",
       "}));\n",
       "$(\"head\").append($(\"<link/>\").attr({\n",
       "  rel:  \"stylesheet\",\n",
       "  type: \"text/css\",\n",
       "  href: \"https://static.turi.com/products/graphlab-create/2.1/canvas/css/canvas.css\"\n",
       "}));\n",
       "\n",
       "            (function(){\n",
       "\n",
       "                var e = null;\n",
       "                if (typeof element == 'undefined') {\n",
       "                    var scripts = document.getElementsByTagName('script');\n",
       "                    var thisScriptTag = scripts[scripts.length-1];\n",
       "                    var parentDiv = thisScriptTag.parentNode;\n",
       "                    e = document.createElement('div');\n",
       "                    parentDiv.appendChild(e);\n",
       "                } else {\n",
       "                    e = element[0];\n",
       "                }\n",
       "\n",
       "                if (typeof requirejs !== 'undefined') {\n",
       "                    // disable load timeout; ipython_app.js is large and can take a while to load.\n",
       "                    requirejs.config({waitSeconds: 0});\n",
       "                }\n",
       "\n",
       "                require(['https://static.turi.com/products/graphlab-create/2.1/canvas/js/ipython_app.js'], function(IPythonApp){\n",
       "                    var app = new IPythonApp();\n",
       "                    app.attachView('sframe','Summary', {\"ipython\": true, \"sketch\": {\"Source\": {\"complete\": true, \"numeric\": false, \"num_unique\": 71, \"num_undefined\": 0, \"progress\": 1.0, \"frequent_items\": {\"Luwin\": {\"frequency\": 1, \"value\": \"Luwin\"}, \"Stannis\": {\"frequency\": 6, \"value\": \"Stannis\"}, \"Jaime\": {\"frequency\": 15, \"value\": \"Jaime\"}, \"Ygritte\": {\"frequency\": 2, \"value\": \"Ygritte\"}, \"Jon Arryn\": {\"frequency\": 2, \"value\": \"Jon Arryn\"}, \"Val\": {\"frequency\": 1, \"value\": \"Val\"}, \"Balon\": {\"frequency\": 1, \"value\": \"Balon\"}, \"Gregor\": {\"frequency\": 5, \"value\": \"Gregor\"}, \"Gilly\": {\"frequency\": 1, \"value\": \"Gilly\"}, \"Daario\": {\"frequency\": 2, \"value\": \"Daario\"}, \"Shae\": {\"frequency\": 2, \"value\": \"Shae\"}, \"Daenerys\": {\"frequency\": 14, \"value\": \"Daenerys\"}, \"Walder\": {\"frequency\": 3, \"value\": \"Walder\"}, \"Aerys\": {\"frequency\": 4, \"value\": \"Aerys\"}, \"Podrick\": {\"frequency\": 1, \"value\": \"Podrick\"}, \"Mance\": {\"frequency\": 8, \"value\": \"Mance\"}, \"Brienne\": {\"frequency\": 1, \"value\": \"Brienne\"}, \"Viserys\": {\"frequency\": 2, \"value\": \"Viserys\"}, \"Samwell\": {\"frequency\": 8, \"value\": \"Samwell\"}, \"Jorah\": {\"frequency\": 4, \"value\": \"Jorah\"}, \"Amory\": {\"frequency\": 1, \"value\": \"Amory\"}, \"Belwas\": {\"frequency\": 2, \"value\": \"Belwas\"}, \"Rickard\": {\"frequency\": 1, \"value\": \"Rickard\"}, \"Walton\": {\"frequency\": 1, \"value\": \"Walton\"}, \"Sandor\": {\"frequency\": 6, \"value\": \"Sandor\"}, \"Janos\": {\"frequency\": 3, \"value\": \"Janos\"}, \"Meera\": {\"frequency\": 1, \"value\": \"Meera\"}, \"Meryn\": {\"frequency\": 1, \"value\": \"Meryn\"}, \"Rattleshirt\": {\"frequency\": 1, \"value\": \"Rattleshirt\"}, \"Joffrey\": {\"frequency\": 12, \"value\": \"Joffrey\"}, \"Brynden\": {\"frequency\": 2, \"value\": \"Brynden\"}, \"Rickon\": {\"frequency\": 1, \"value\": \"Rickon\"}, \"Oberyn\": {\"frequency\": 2, \"value\": \"Oberyn\"}, \"Jon\": {\"frequency\": 21, \"value\": \"Jon\"}, \"Catelyn\": {\"frequency\": 17, \"value\": \"Catelyn\"}, \"Edmure\": {\"frequency\": 4, \"value\": \"Edmure\"}, \"Jojen\": {\"frequency\": 2, \"value\": \"Jojen\"}, \"Davos\": {\"frequency\": 2, \"value\": \"Davos\"}, \"Craster\": {\"frequency\": 1, \"value\": \"Craster\"}, \"Irri\": {\"frequency\": 1, \"value\": \"Irri\"}, \"Kevan\": {\"frequency\": 2, \"value\": \"Kevan\"}, \"Gendry\": {\"frequency\": 1, \"value\": \"Gendry\"}, \"Lysa\": {\"frequency\": 7, \"value\": \"Lysa\"}, \"Tyrion\": {\"frequency\": 24, \"value\": \"Tyrion\"}, \"Robert\": {\"frequency\": 5, \"value\": \"Robert\"}, \"Eddison\": {\"frequency\": 1, \"value\": \"Eddison\"}, \"Bronn\": {\"frequency\": 2, \"value\": \"Bronn\"}, \"Renly\": {\"frequency\": 3, \"value\": \"Renly\"}, \"Alliser\": {\"frequency\": 1, \"value\": \"Alliser\"}, \"Beric\": {\"frequency\": 3, \"value\": \"Beric\"}, \"Lothar\": {\"frequency\": 1, \"value\": \"Lothar\"}, \"Varys\": {\"frequency\": 1, \"value\": \"Varys\"}, \"Arya\": {\"frequency\": 16, \"value\": \"Arya\"}, \"Missandei\": {\"frequency\": 1, \"value\": \"Missandei\"}, \"Bran\": {\"frequency\": 9, \"value\": \"Bran\"}, \"Hoster\": {\"frequency\": 1, \"value\": \"Hoster\"}, \"Rhaegar\": {\"frequency\": 4, \"value\": \"Rhaegar\"}, \"Sansa\": {\"frequency\": 23, \"value\": \"Sansa\"}, \"Tywin\": {\"frequency\": 19, \"value\": \"Tywin\"}, \"Eddard\": {\"frequency\": 12, \"value\": \"Eddard\"}, \"Melisandre\": {\"frequency\": 2, \"value\": \"Melisandre\"}, \"Cersei\": {\"frequency\": 14, \"value\": \"Cersei\"}, \"Roose\": {\"frequency\": 1, \"value\": \"Roose\"}, \"Robb\": {\"frequency\": 23, \"value\": \"Robb\"}, \"Shireen\": {\"frequency\": 1, \"value\": \"Shireen\"}, \"Hodor\": {\"frequency\": 2, \"value\": \"Hodor\"}, \"Loras\": {\"frequency\": 2, \"value\": \"Loras\"}, \"Robert Arryn\": {\"frequency\": 1, \"value\": \"Robert Arryn\"}, \"Myrcella\": {\"frequency\": 2, \"value\": \"Myrcella\"}, \"Aemon\": {\"frequency\": 2, \"value\": \"Aemon\"}, \"Tommen\": {\"frequency\": 1, \"value\": \"Tommen\"}}, \"size\": 352}, \"Target\": {\"complete\": true, \"numeric\": false, \"num_unique\": 100, \"num_undefined\": 0, \"progress\": 1.0, \"frequent_items\": {\"Val\": {\"frequency\": 3, \"value\": \"Val\"}, \"Balon\": {\"frequency\": 5, \"value\": \"Balon\"}, \"Brynden\": {\"frequency\": 6, \"value\": \"Brynden\"}, \"Belwas\": {\"frequency\": 2, \"value\": \"Belwas\"}, \"Chataya\": {\"frequency\": 2, \"value\": \"Chataya\"}, \"Tyrion\": {\"frequency\": 12, \"value\": \"Tyrion\"}, \"Margaery\": {\"frequency\": 7, \"value\": \"Margaery\"}, \"Qhorin\": {\"frequency\": 5, \"value\": \"Qhorin\"}, \"Petyr\": {\"frequency\": 7, \"value\": \"Petyr\"}, \"Craster\": {\"frequency\": 4, \"value\": \"Craster\"}, \"Lancel\": {\"frequency\": 1, \"value\": \"Lancel\"}, \"Kevan\": {\"frequency\": 4, \"value\": \"Kevan\"}, \"Lysa\": {\"frequency\": 3, \"value\": \"Lysa\"}, \"Marillion\": {\"frequency\": 3, \"value\": \"Marillion\"}, \"Varys\": {\"frequency\": 6, \"value\": \"Varys\"}, \"Alliser\": {\"frequency\": 2, \"value\": \"Alliser\"}, \"Lothar\": {\"frequency\": 4, \"value\": \"Lothar\"}, \"Tywin\": {\"frequency\": 3, \"value\": \"Tywin\"}, \"Melisandre\": {\"frequency\": 2, \"value\": \"Melisandre\"}, \"Walder\": {\"frequency\": 5, \"value\": \"Walder\"}, \"Catelyn\": {\"frequency\": 1, \"value\": \"Catelyn\"}, \"Barristan\": {\"frequency\": 6, \"value\": \"Barristan\"}, \"Daario\": {\"frequency\": 2, \"value\": \"Daario\"}, \"Robb\": {\"frequency\": 2, \"value\": \"Robb\"}, \"Thoros\": {\"frequency\": 5, \"value\": \"Thoros\"}, \"Dalla\": {\"frequency\": 3, \"value\": \"Dalla\"}, \"Mance\": {\"frequency\": 4, \"value\": \"Mance\"}, \"Kraznys\": {\"frequency\": 1, \"value\": \"Kraznys\"}, \"Rickard\": {\"frequency\": 1, \"value\": \"Rickard\"}, \"Salladhor\": {\"frequency\": 1, \"value\": \"Salladhor\"}, \"Irri\": {\"frequency\": 3, \"value\": \"Irri\"}, \"Loras\": {\"frequency\": 7, \"value\": \"Loras\"}, \"Edmure\": {\"frequency\": 4, \"value\": \"Edmure\"}, \"Worm\": {\"frequency\": 1, \"value\": \"Worm\"}, \"Bronn\": {\"frequency\": 2, \"value\": \"Bronn\"}, \"Rakharo\": {\"frequency\": 1, \"value\": \"Rakharo\"}, \"Hoster\": {\"frequency\": 2, \"value\": \"Hoster\"}, \"Rhaegar\": {\"frequency\": 2, \"value\": \"Rhaegar\"}, \"Sansa\": {\"frequency\": 3, \"value\": \"Sansa\"}, \"Cersei\": {\"frequency\": 6, \"value\": \"Cersei\"}, \"Brienne\": {\"frequency\": 6, \"value\": \"Brienne\"}, \"Sandor\": {\"frequency\": 7, \"value\": \"Sandor\"}, \"Qyburn\": {\"frequency\": 1, \"value\": \"Qyburn\"}, \"Ilyn\": {\"frequency\": 6, \"value\": \"Ilyn\"}, \"Meryn\": {\"frequency\": 6, \"value\": \"Meryn\"}, \"Olenna\": {\"frequency\": 2, \"value\": \"Olenna\"}, \"Robert\": {\"frequency\": 13, \"value\": \"Robert\"}, \"Gilly\": {\"frequency\": 3, \"value\": \"Gilly\"}, \"Shae\": {\"frequency\": 3, \"value\": \"Shae\"}, \"Ellaria\": {\"frequency\": 2, \"value\": \"Ellaria\"}, \"Bowen\": {\"frequency\": 2, \"value\": \"Bowen\"}, \"Missandei\": {\"frequency\": 1, \"value\": \"Missandei\"}, \"Jorah\": {\"frequency\": 2, \"value\": \"Jorah\"}, \"Mace\": {\"frequency\": 3, \"value\": \"Mace\"}, \"Janos\": {\"frequency\": 3, \"value\": \"Janos\"}, \"Meera\": {\"frequency\": 4, \"value\": \"Meera\"}, \"Oberyn\": {\"frequency\": 5, \"value\": \"Oberyn\"}, \"Davos\": {\"frequency\": 3, \"value\": \"Davos\"}, \"Eddison\": {\"frequency\": 2, \"value\": \"Eddison\"}, \"Bran\": {\"frequency\": 5, \"value\": \"Bran\"}, \"Elia\": {\"frequency\": 5, \"value\": \"Elia\"}, \"Roose\": {\"frequency\": 3, \"value\": \"Roose\"}, \"Grenn\": {\"frequency\": 4, \"value\": \"Grenn\"}, \"Hodor\": {\"frequency\": 2, \"value\": \"Hodor\"}, \"Ramsay\": {\"frequency\": 1, \"value\": \"Ramsay\"}, \"Stannis\": {\"frequency\": 8, \"value\": \"Stannis\"}, \"Jeyne\": {\"frequency\": 2, \"value\": \"Jeyne\"}, \"Ygritte\": {\"frequency\": 2, \"value\": \"Ygritte\"}, \"Luwin\": {\"frequency\": 1, \"value\": \"Luwin\"}, \"Roslin\": {\"frequency\": 4, \"value\": \"Roslin\"}, \"Gregor\": {\"frequency\": 7, \"value\": \"Gregor\"}, \"Nan\": {\"frequency\": 2, \"value\": \"Nan\"}, \"Anguy\": {\"frequency\": 2, \"value\": \"Anguy\"}, \"Cressen\": {\"frequency\": 1, \"value\": \"Cressen\"}, \"Illyrio\": {\"frequency\": 1, \"value\": \"Illyrio\"}, \"Aegon\": {\"frequency\": 1, \"value\": \"Aegon\"}, \"Podrick\": {\"frequency\": 4, \"value\": \"Podrick\"}, \"Orell\": {\"frequency\": 1, \"value\": \"Orell\"}, \"Samwell\": {\"frequency\": 7, \"value\": \"Samwell\"}, \"Joffrey\": {\"frequency\": 6, \"value\": \"Joffrey\"}, \"Rickon\": {\"frequency\": 5, \"value\": \"Rickon\"}, \"Jon\": {\"frequency\": 5, \"value\": \"Jon\"}, \"Jojen\": {\"frequency\": 2, \"value\": \"Jojen\"}, \"Pycelle\": {\"frequency\": 4, \"value\": \"Pycelle\"}, \"Gendry\": {\"frequency\": 3, \"value\": \"Gendry\"}, \"Rattleshirt\": {\"frequency\": 3, \"value\": \"Rattleshirt\"}, \"Renly\": {\"frequency\": 5, \"value\": \"Renly\"}, \"Theon\": {\"frequency\": 4, \"value\": \"Theon\"}, \"Beric\": {\"frequency\": 3, \"value\": \"Beric\"}, \"Arya\": {\"frequency\": 3, \"value\": \"Arya\"}, \"Viserys\": {\"frequency\": 1, \"value\": \"Viserys\"}, \"Myrcella\": {\"frequency\": 2, \"value\": \"Myrcella\"}, \"Drogo\": {\"frequency\": 4, \"value\": \"Drogo\"}, \"Doran\": {\"frequency\": 1, \"value\": \"Doran\"}, \"Tommen\": {\"frequency\": 4, \"value\": \"Tommen\"}, \"Styr\": {\"frequency\": 2, \"value\": \"Styr\"}, \"Jaime\": {\"frequency\": 9, \"value\": \"Jaime\"}, \"Robert Arryn\": {\"frequency\": 2, \"value\": \"Robert Arryn\"}, \"Aemon\": {\"frequency\": 3, \"value\": \"Aemon\"}, \"Karl\": {\"frequency\": 1, \"value\": \"Karl\"}}, \"size\": 352}, \"Weight\": {\"std\": 12.670831629121812, \"complete\": true, \"min\": 4.0, \"max\": 96.0, \"quantile\": [4.0, 4.0, 4.0, 4.0, 4.0, 4.0, 4.0, 4.0, 4.0, 4.0, 4.0, 4.0, 4.0, 4.0, 4.0, 4.0, 4.0, 4.0, 5.0, 5.0, 5.0, 5.0, 5.0, 5.0, 5.0, 5.0, 5.0, 5.0, 5.0, 5.0, 5.0, 5.0, 5.0, 6.0, 6.0, 6.0, 6.0, 6.0, 6.0, 6.0, 6.0, 6.0, 6.0, 7.0, 7.0, 7.0, 7.0, 7.0, 7.0, 7.0, 7.0, 8.0, 8.0, 8.0, 8.0, 8.0, 8.0, 9.0, 9.0, 9.0, 9.0, 9.0, 10.0, 10.0, 10.0, 10.0, 11.0, 11.0, 11.0, 11.0, 12.0, 12.0, 12.0, 13.0, 14.0, 14.0, 15.0, 15.0, 15.0, 16.0, 16.0, 17.0, 18.0, 18.0, 19.0, 20.0, 21.0, 23.0, 25.0, 26.0, 28.0, 30.0, 31.0, 33.0, 35.0, 36.0, 43.0, 46.0, 52.0, 69.0, 96.0], \"median\": 7.0, \"numeric\": true, \"num_unique\": 43, \"num_undefined\": 0, \"var\": 160.54997417355372, \"progress\": 1.0, \"size\": 352, \"frequent_items\": {\"4\": {\"frequency\": 60, \"value\": 4}, \"5\": {\"frequency\": 53, \"value\": 5}, \"6\": {\"frequency\": 35, \"value\": 6}, \"7\": {\"frequency\": 30, \"value\": 7}, \"8\": {\"frequency\": 22, \"value\": 8}, \"9\": {\"frequency\": 16, \"value\": 9}, \"10\": {\"frequency\": 15, \"value\": 10}, \"11\": {\"frequency\": 13, \"value\": 11}, \"12\": {\"frequency\": 10, \"value\": 12}, \"13\": {\"frequency\": 5, \"value\": 13}, \"14\": {\"frequency\": 7, \"value\": 14}, \"15\": {\"frequency\": 10, \"value\": 15}, \"16\": {\"frequency\": 8, \"value\": 16}, \"17\": {\"frequency\": 4, \"value\": 17}, \"18\": {\"frequency\": 7, \"value\": 18}, \"19\": {\"frequency\": 3, \"value\": 19}, \"20\": {\"frequency\": 3, \"value\": 20}, \"21\": {\"frequency\": 2, \"value\": 21}, \"22\": {\"frequency\": 2, \"value\": 22}, \"23\": {\"frequency\": 3, \"value\": 23}, \"24\": {\"frequency\": 1, \"value\": 24}, \"25\": {\"frequency\": 2, \"value\": 25}, \"26\": {\"frequency\": 3, \"value\": 26}, \"28\": {\"frequency\": 4, \"value\": 28}, \"29\": {\"frequency\": 1, \"value\": 29}, \"30\": {\"frequency\": 2, \"value\": 30}, \"31\": {\"frequency\": 4, \"value\": 31}, \"32\": {\"frequency\": 2, \"value\": 32}, \"33\": {\"frequency\": 1, \"value\": 33}, \"34\": {\"frequency\": 1, \"value\": 34}, \"35\": {\"frequency\": 3, \"value\": 35}, \"36\": {\"frequency\": 3, \"value\": 36}, \"39\": {\"frequency\": 1, \"value\": 39}, \"41\": {\"frequency\": 1, \"value\": 41}, \"43\": {\"frequency\": 3, \"value\": 43}, \"46\": {\"frequency\": 3, \"value\": 46}, \"47\": {\"frequency\": 1, \"value\": 47}, \"52\": {\"frequency\": 1, \"value\": 52}, \"54\": {\"frequency\": 3, \"value\": 54}, \"69\": {\"frequency\": 1, \"value\": 69}, \"77\": {\"frequency\": 1, \"value\": 77}, \"88\": {\"frequency\": 1, \"value\": 88}, \"96\": {\"frequency\": 1, \"value\": 96}}, \"mean\": 12.284090909090907}}, \"selected_variable\": {\"name\": [\"edges\"], \"descriptives\": {\"rows\": 352, \"columns\": 3}, \"view_component\": \"Summary\", \"view_file\": \"sframe\", \"view_params\": {\"y\": null, \"x\": null, \"columns\": [\"Source\", \"Target\", \"Weight\"], \"view\": null}, \"view_components\": [\"Summary\", \"Table\", \"Bar Chart\", \"BoxWhisker Plot\", \"Line Chart\", \"Scatter Plot\", \"Heat Map\", \"Plots\"], \"type\": \"SFrame\", \"columns\": [{\"dtype\": \"str\", \"name\": \"Source\"}, {\"dtype\": \"str\", \"name\": \"Target\"}, {\"dtype\": \"int\", \"name\": \"Weight\"}], \"column_identifiers\": [\"Source\", \"Target\", \"Weight\"]}, \"columns\": [{\"dtype\": \"str\", \"name\": \"Source\"}, {\"dtype\": \"str\", \"name\": \"Target\"}, {\"dtype\": \"int\", \"name\": \"Weight\"}]}, e);\n",
       "                });\n",
       "            })();\n",
       "        "
      ]
     },
     "metadata": {},
     "output_type": "display_data"
    }
   ],
   "source": [
    "vertices.show()\n",
    "edges.show()"
   ]
  },
  {
   "cell_type": "code",
   "execution_count": 7,
   "metadata": {
    "collapsed": false
   },
   "outputs": [],
   "source": [
    "g = gl.SGraph()"
   ]
  },
  {
   "cell_type": "code",
   "execution_count": 8,
   "metadata": {
    "collapsed": false
   },
   "outputs": [],
   "source": [
    "g = g.add_vertices(vertices=vertices, vid_field='Name')\n",
    "g = g.add_edges(edges=edges, src_field='Source', dst_field='Target')"
   ]
  },
  {
   "cell_type": "code",
   "execution_count": 9,
   "metadata": {
    "collapsed": false
   },
   "outputs": [
    {
     "data": {
      "text/html": [
       "<div style=\"max-height:1000px;max-width:1500px;overflow:auto;\"><table frame=\"box\" rules=\"cols\">\n",
       "    <tr>\n",
       "        <th style=\"padding-left: 1em; padding-right: 1em; text-align: center\">__id</th>\n",
       "    </tr>\n",
       "    <tr>\n",
       "        <td style=\"padding-left: 1em; padding-right: 1em; text-align: center; vertical-align: top\">Robert</td>\n",
       "    </tr>\n",
       "    <tr>\n",
       "        <td style=\"padding-left: 1em; padding-right: 1em; text-align: center; vertical-align: top\">Gendry</td>\n",
       "    </tr>\n",
       "    <tr>\n",
       "        <td style=\"padding-left: 1em; padding-right: 1em; text-align: center; vertical-align: top\">Eddison</td>\n",
       "    </tr>\n",
       "    <tr>\n",
       "        <td style=\"padding-left: 1em; padding-right: 1em; text-align: center; vertical-align: top\">Cersei</td>\n",
       "    </tr>\n",
       "    <tr>\n",
       "        <td style=\"padding-left: 1em; padding-right: 1em; text-align: center; vertical-align: top\">Jon</td>\n",
       "    </tr>\n",
       "    <tr>\n",
       "        <td style=\"padding-left: 1em; padding-right: 1em; text-align: center; vertical-align: top\">Mance</td>\n",
       "    </tr>\n",
       "    <tr>\n",
       "        <td style=\"padding-left: 1em; padding-right: 1em; text-align: center; vertical-align: top\">Oberyn</td>\n",
       "    </tr>\n",
       "    <tr>\n",
       "        <td style=\"padding-left: 1em; padding-right: 1em; text-align: center; vertical-align: top\">Roslin</td>\n",
       "    </tr>\n",
       "    <tr>\n",
       "        <td style=\"padding-left: 1em; padding-right: 1em; text-align: center; vertical-align: top\">Melisandre</td>\n",
       "    </tr>\n",
       "    <tr>\n",
       "        <td style=\"padding-left: 1em; padding-right: 1em; text-align: center; vertical-align: top\">Alliser</td>\n",
       "    </tr>\n",
       "</table>\n",
       "[107 rows x 1 columns]<br/>Note: Only the head of the SFrame is printed.<br/>You can use print_rows(num_rows=m, num_columns=n) to print more rows and columns.\n",
       "</div>"
      ],
      "text/plain": [
       "Columns:\n",
       "\t__id\tstr\n",
       "\n",
       "Rows: 107\n",
       "\n",
       "Data:\n",
       "+------------+\n",
       "|    __id    |\n",
       "+------------+\n",
       "|   Robert   |\n",
       "|   Gendry   |\n",
       "|  Eddison   |\n",
       "|   Cersei   |\n",
       "|    Jon     |\n",
       "|   Mance    |\n",
       "|   Oberyn   |\n",
       "|   Roslin   |\n",
       "| Melisandre |\n",
       "|  Alliser   |\n",
       "+------------+\n",
       "[107 rows x 1 columns]\n",
       "Note: Only the head of the SFrame is printed.\n",
       "You can use print_rows(num_rows=m, num_columns=n) to print more rows and columns."
      ]
     },
     "execution_count": 9,
     "metadata": {},
     "output_type": "execute_result"
    }
   ],
   "source": [
    "g.get_vertices()"
   ]
  },
  {
   "cell_type": "code",
   "execution_count": 10,
   "metadata": {
    "collapsed": false
   },
   "outputs": [
    {
     "data": {
      "text/html": [
       "<div style=\"max-height:1000px;max-width:1500px;overflow:auto;\"><table frame=\"box\" rules=\"cols\">\n",
       "    <tr>\n",
       "        <th style=\"padding-left: 1em; padding-right: 1em; text-align: center\">__src_id</th>\n",
       "        <th style=\"padding-left: 1em; padding-right: 1em; text-align: center\">__dst_id</th>\n",
       "        <th style=\"padding-left: 1em; padding-right: 1em; text-align: center\">Weight</th>\n",
       "    </tr>\n",
       "    <tr>\n",
       "        <td style=\"padding-left: 1em; padding-right: 1em; text-align: center; vertical-align: top\">Jon</td>\n",
       "        <td style=\"padding-left: 1em; padding-right: 1em; text-align: center; vertical-align: top\">Alliser</td>\n",
       "        <td style=\"padding-left: 1em; padding-right: 1em; text-align: center; vertical-align: top\">15</td>\n",
       "    </tr>\n",
       "    <tr>\n",
       "        <td style=\"padding-left: 1em; padding-right: 1em; text-align: center; vertical-align: top\">Jon</td>\n",
       "        <td style=\"padding-left: 1em; padding-right: 1em; text-align: center; vertical-align: top\">Eddison</td>\n",
       "        <td style=\"padding-left: 1em; padding-right: 1em; text-align: center; vertical-align: top\">4</td>\n",
       "    </tr>\n",
       "    <tr>\n",
       "        <td style=\"padding-left: 1em; padding-right: 1em; text-align: center; vertical-align: top\">Jon</td>\n",
       "        <td style=\"padding-left: 1em; padding-right: 1em; text-align: center; vertical-align: top\">Mance</td>\n",
       "        <td style=\"padding-left: 1em; padding-right: 1em; text-align: center; vertical-align: top\">69</td>\n",
       "    </tr>\n",
       "    <tr>\n",
       "        <td style=\"padding-left: 1em; padding-right: 1em; text-align: center; vertical-align: top\">Jon</td>\n",
       "        <td style=\"padding-left: 1em; padding-right: 1em; text-align: center; vertical-align: top\">Melisandre</td>\n",
       "        <td style=\"padding-left: 1em; padding-right: 1em; text-align: center; vertical-align: top\">7</td>\n",
       "    </tr>\n",
       "    <tr>\n",
       "        <td style=\"padding-left: 1em; padding-right: 1em; text-align: center; vertical-align: top\">Jon</td>\n",
       "        <td style=\"padding-left: 1em; padding-right: 1em; text-align: center; vertical-align: top\">Robert</td>\n",
       "        <td style=\"padding-left: 1em; padding-right: 1em; text-align: center; vertical-align: top\">5</td>\n",
       "    </tr>\n",
       "    <tr>\n",
       "        <td style=\"padding-left: 1em; padding-right: 1em; text-align: center; vertical-align: top\">Robb</td>\n",
       "        <td style=\"padding-left: 1em; padding-right: 1em; text-align: center; vertical-align: top\">Balon</td>\n",
       "        <td style=\"padding-left: 1em; padding-right: 1em; text-align: center; vertical-align: top\">6</td>\n",
       "    </tr>\n",
       "    <tr>\n",
       "        <td style=\"padding-left: 1em; padding-right: 1em; text-align: center; vertical-align: top\">Robb</td>\n",
       "        <td style=\"padding-left: 1em; padding-right: 1em; text-align: center; vertical-align: top\">Jon</td>\n",
       "        <td style=\"padding-left: 1em; padding-right: 1em; text-align: center; vertical-align: top\">14</td>\n",
       "    </tr>\n",
       "    <tr>\n",
       "        <td style=\"padding-left: 1em; padding-right: 1em; text-align: center; vertical-align: top\">Alliser</td>\n",
       "        <td style=\"padding-left: 1em; padding-right: 1em; text-align: center; vertical-align: top\">Mance</td>\n",
       "        <td style=\"padding-left: 1em; padding-right: 1em; text-align: center; vertical-align: top\">5</td>\n",
       "    </tr>\n",
       "    <tr>\n",
       "        <td style=\"padding-left: 1em; padding-right: 1em; text-align: center; vertical-align: top\">Amory</td>\n",
       "        <td style=\"padding-left: 1em; padding-right: 1em; text-align: center; vertical-align: top\">Oberyn</td>\n",
       "        <td style=\"padding-left: 1em; padding-right: 1em; text-align: center; vertical-align: top\">5</td>\n",
       "    </tr>\n",
       "    <tr>\n",
       "        <td style=\"padding-left: 1em; padding-right: 1em; text-align: center; vertical-align: top\">Cersei</td>\n",
       "        <td style=\"padding-left: 1em; padding-right: 1em; text-align: center; vertical-align: top\">Ilyn</td>\n",
       "        <td style=\"padding-left: 1em; padding-right: 1em; text-align: center; vertical-align: top\">7</td>\n",
       "    </tr>\n",
       "</table>\n",
       "[352 rows x 3 columns]<br/>Note: Only the head of the SFrame is printed.<br/>You can use print_rows(num_rows=m, num_columns=n) to print more rows and columns.\n",
       "</div>"
      ],
      "text/plain": [
       "Columns:\n",
       "\t__src_id\tstr\n",
       "\t__dst_id\tstr\n",
       "\tWeight\tint\n",
       "\n",
       "Rows: 352\n",
       "\n",
       "Data:\n",
       "+----------+------------+--------+\n",
       "| __src_id |  __dst_id  | Weight |\n",
       "+----------+------------+--------+\n",
       "|   Jon    |  Alliser   |   15   |\n",
       "|   Jon    |  Eddison   |   4    |\n",
       "|   Jon    |   Mance    |   69   |\n",
       "|   Jon    | Melisandre |   7    |\n",
       "|   Jon    |   Robert   |   5    |\n",
       "|   Robb   |   Balon    |   6    |\n",
       "|   Robb   |    Jon     |   14   |\n",
       "| Alliser  |   Mance    |   5    |\n",
       "|  Amory   |   Oberyn   |   5    |\n",
       "|  Cersei  |    Ilyn    |   7    |\n",
       "+----------+------------+--------+\n",
       "[352 rows x 3 columns]\n",
       "Note: Only the head of the SFrame is printed.\n",
       "You can use print_rows(num_rows=m, num_columns=n) to print more rows and columns."
      ]
     },
     "execution_count": 10,
     "metadata": {},
     "output_type": "execute_result"
    }
   ],
   "source": [
    "g.get_edges()"
   ]
  },
  {
   "cell_type": "code",
   "execution_count": 11,
   "metadata": {
    "collapsed": false
   },
   "outputs": [
    {
     "data": {
      "application/javascript": [
       "$(\"head\").append($(\"<link/>\").attr({\n",
       "  rel:  \"stylesheet\",\n",
       "  type: \"text/css\",\n",
       "  href: \"//cdnjs.cloudflare.com/ajax/libs/font-awesome/4.1.0/css/font-awesome.min.css\"\n",
       "}));\n",
       "$(\"head\").append($(\"<link/>\").attr({\n",
       "  rel:  \"stylesheet\",\n",
       "  type: \"text/css\",\n",
       "  href: \"https://static.turi.com/products/graphlab-create/2.1/canvas/css/canvas.css\"\n",
       "}));\n",
       "\n",
       "            (function(){\n",
       "\n",
       "                var e = null;\n",
       "                if (typeof element == 'undefined') {\n",
       "                    var scripts = document.getElementsByTagName('script');\n",
       "                    var thisScriptTag = scripts[scripts.length-1];\n",
       "                    var parentDiv = thisScriptTag.parentNode;\n",
       "                    e = document.createElement('div');\n",
       "                    parentDiv.appendChild(e);\n",
       "                } else {\n",
       "                    e = element[0];\n",
       "                }\n",
       "\n",
       "                if (typeof requirejs !== 'undefined') {\n",
       "                    // disable load timeout; ipython_app.js is large and can take a while to load.\n",
       "                    requirejs.config({waitSeconds: 0});\n",
       "                }\n",
       "\n",
       "                require(['https://static.turi.com/products/graphlab-create/2.1/canvas/js/ipython_app.js'], function(IPythonApp){\n",
       "                    var app = new IPythonApp();\n",
       "                    app.attachView('sgraph','View', {\"edges_labels\": null, \"selected_variable\": {\"name\": [\"g\"], \"view_file\": \"sgraph\", \"view_component\": \"View\", \"view_params\": {\"elabel_hover\": false, \"vertex_positions\": null, \"h_offset\": 0.0, \"node_size\": 300, \"ecolor\": [0.37, 0.33, 0.33], \"elabel\": null, \"arrows\": false, \"ewidth\": 1, \"vlabel\": \"id\", \"highlight_color\": [0.69, 0.0, 0.498], \"vcolor\": [0.522, 0.741, 0.0], \"vlabel_hover\": false, \"highlight\": {}, \"v_offset\": 0.03}, \"view_components\": [\"View\"], \"type\": \"SGraph\", \"descriptives_links\": {\"edges\": \"edges\", \"vertices\": \"vertices\"}, \"descriptives\": {\"edges\": 352, \"vertices\": 107}}, \"positions\": null, \"error_type\": 0, \"vertices\": [\"Robert\", \"Gendry\", \"Eddison\", \"Cersei\", \"Jon\", \"Mance\", \"Oberyn\", \"Roslin\", \"Melisandre\", \"Alliser\", \"Ilyn\", \"Drogo\", \"Robb\", \"Amory\", \"Balon\", \"Anguy\", \"Ygritte\", \"Jojen\", \"Missandei\", \"Gregor\", \"Kevan\", \"Rickon\", \"Lothar\", \"Myrcella\", \"Tyrion\", \"Marillion\", \"Elia\", \"Lancel\", \"Walton\", \"Sandor\", \"Eddard\", \"Belwas\", \"Shae\", \"Qyburn\", \"Meryn\", \"Jaime\", \"Val\", \"Davos\", \"Brynden\", \"Irri\", \"Joffrey\", \"Edmure\", \"Podrick\", \"Orell\", \"Olenna\", \"Kraznys\", \"Stannis\", \"Worm\", \"Salladhor\", \"Ellaria\", \"Rakharo\", \"Bowen\", \"Viserys\", \"Sansa\", \"Thoros\", \"Gilly\", \"Craster\", \"Jon Arryn\", \"Illyrio\", \"Jorah\", \"Karl\", \"Ramsay\", \"Renly\", \"Rhaegar\", \"Dalla\", \"Styr\", \"Theon\", \"Varys\", \"Beric\", \"Walder\", \"Aemon\", \"Tywin\", \"Tommen\", \"Janos\", \"Shireen\", \"Meera\", \"Rattleshirt\", \"Jeyne\", \"Barristan\", \"Pycelle\", \"Daenerys\", \"Brienne\", \"Robert Arryn\", \"Roose\", \"Grenn\", \"Mace\", \"Rickard\", \"Lysa\", \"Aegon\", \"Margaery\", \"Doran\", \"Arya\", \"Bran\", \"Catelyn\", \"Samwell\", \"Hoster\", \"Qhorin\", \"Luwin\", \"Loras\", \"Petyr\", \"Nan\", \"Aerys\", \"Cressen\", \"Chataya\", \"Bronn\", \"Daario\", \"Hodor\"], \"vertices_labels\": [\"Robert\", \"Gendry\", \"Eddison\", \"Cersei\", \"Jon\", \"Mance\", \"Oberyn\", \"Roslin\", \"Melisandre\", \"Alliser\", \"Ilyn\", \"Drogo\", \"Robb\", \"Amory\", \"Balon\", \"Anguy\", \"Ygritte\", \"Jojen\", \"Missandei\", \"Gregor\", \"Kevan\", \"Rickon\", \"Lothar\", \"Myrcella\", \"Tyrion\", \"Marillion\", \"Elia\", \"Lancel\", \"Walton\", \"Sandor\", \"Eddard\", \"Belwas\", \"Shae\", \"Qyburn\", \"Meryn\", \"Jaime\", \"Val\", \"Davos\", \"Brynden\", \"Irri\", \"Joffrey\", \"Edmure\", \"Podrick\", \"Orell\", \"Olenna\", \"Kraznys\", \"Stannis\", \"Worm\", \"Salladhor\", \"Ellaria\", \"Rakharo\", \"Bowen\", \"Viserys\", \"Sansa\", \"Thoros\", \"Gilly\", \"Craster\", \"Jon Arryn\", \"Illyrio\", \"Jorah\", \"Karl\", \"Ramsay\", \"Renly\", \"Rhaegar\", \"Dalla\", \"Styr\", \"Theon\", \"Varys\", \"Beric\", \"Walder\", \"Aemon\", \"Tywin\", \"Tommen\", \"Janos\", \"Shireen\", \"Meera\", \"Rattleshirt\", \"Jeyne\", \"Barristan\", \"Pycelle\", \"Daenerys\", \"Brienne\", \"Robert Arryn\", \"Roose\", \"Grenn\", \"Mace\", \"Rickard\", \"Lysa\", \"Aegon\", \"Margaery\", \"Doran\", \"Arya\", \"Bran\", \"Catelyn\", \"Samwell\", \"Hoster\", \"Qhorin\", \"Luwin\", \"Loras\", \"Petyr\", \"Nan\", \"Aerys\", \"Cressen\", \"Chataya\", \"Bronn\", \"Daario\", \"Hodor\"], \"edges\": [[\"Jon\", \"Alliser\"], [\"Jon\", \"Eddison\"], [\"Jon\", \"Mance\"], [\"Jon\", \"Melisandre\"], [\"Jon\", \"Robert\"], [\"Robb\", \"Balon\"], [\"Robb\", \"Jon\"], [\"Alliser\", \"Mance\"], [\"Amory\", \"Oberyn\"], [\"Cersei\", \"Ilyn\"], [\"Cersei\", \"Robert\"], [\"Jon\", \"Ygritte\"], [\"Mance\", \"Ygritte\"], [\"Robb\", \"Lothar\"], [\"Robb\", \"Rickon\"], [\"Robb\", \"Tyrion\"], [\"Cersei\", \"Elia\"], [\"Cersei\", \"Gregor\"], [\"Cersei\", \"Tyrion\"], [\"Robb\", \"Jaime\"], [\"Cersei\", \"Jaime\"], [\"Cersei\", \"Meryn\"], [\"Cersei\", \"Sandor\"], [\"Cersei\", \"Shae\"], [\"Jon\", \"Orell\"], [\"Jon\", \"Stannis\"], [\"Jon\", \"Val\"], [\"Mance\", \"Val\"], [\"Melisandre\", \"Davos\"], [\"Oberyn\", \"Ellaria\"], [\"Robb\", \"Brynden\"], [\"Robb\", \"Edmure\"], [\"Robb\", \"Joffrey\"], [\"Robb\", \"Stannis\"], [\"Robert\", \"Stannis\"], [\"Cersei\", \"Joffrey\"], [\"Gendry\", \"Thoros\"], [\"Jon\", \"Aemon\"], [\"Jon\", \"Craster\"], [\"Jon\", \"Dalla\"], [\"Jon\", \"Gilly\"], [\"Jon\", \"Styr\"], [\"Jon\", \"Theon\"], [\"Mance\", \"Craster\"], [\"Mance\", \"Dalla\"], [\"Mance\", \"Gilly\"], [\"Mance\", \"Styr\"], [\"Robb\", \"Ramsay\"], [\"Robb\", \"Sansa\"], [\"Robb\", \"Theon\"], [\"Robb\", \"Walder\"], [\"Robert\", \"Aemon\"], [\"Robert\", \"Renly\"], [\"Robert\", \"Thoros\"], [\"Cersei\", \"Varys\"], [\"Jon\", \"Janos\"], [\"Jon\", \"Meera\"], [\"Jon\", \"Rattleshirt\"], [\"Mance\", \"Rattleshirt\"], [\"Robb\", \"Brienne\"], [\"Robb\", \"Jeyne\"], [\"Robb\", \"Roose\"], [\"Robb\", \"Tywin\"], [\"Robert\", \"Barristan\"], [\"Cersei\", \"Brienne\"], [\"Cersei\", \"Pycelle\"], [\"Eddison\", \"Grenn\"], [\"Jon\", \"Grenn\"], [\"Jon\", \"Samwell\"], [\"Melisandre\", \"Samwell\"], [\"Oberyn\", \"Mace\"], [\"Robb\", \"Arya\"], [\"Robb\", \"Bran\"], [\"Robb\", \"Rickard\"], [\"Jon\", \"Qhorin\"], [\"Mance\", \"Qhorin\"], [\"Robb\", \"Hodor\"], [\"Robb\", \"Petyr\"], [\"Balon\", \"Loras\"], [\"Cersei\", \"Bronn\"], [\"Gregor\", \"Ilyn\"], [\"Gregor\", \"Oberyn\"], [\"Lothar\", \"Roslin\"], [\"Tyrion\", \"Balon\"], [\"Tyrion\", \"Ilyn\"], [\"Tyrion\", \"Oberyn\"], [\"Tyrion\", \"Robert\"], [\"Gregor\", \"Elia\"], [\"Kevan\", \"Lancel\"], [\"Myrcella\", \"Tyrion\"], [\"Tyrion\", \"Elia\"], [\"Tyrion\", \"Gregor\"], [\"Tyrion\", \"Kevan\"], [\"Gregor\", \"Meryn\"], [\"Gregor\", \"Sandor\"], [\"Tyrion\", \"Meryn\"], [\"Tyrion\", \"Sandor\"], [\"Tyrion\", \"Shae\"], [\"Missandei\", \"Irri\"], [\"Tyrion\", \"Ellaria\"], [\"Tyrion\", \"Podrick\"], [\"Tyrion\", \"Stannis\"], [\"Kevan\", \"Varys\"], [\"Rickon\", \"Theon\"], [\"Tyrion\", \"Renly\"], [\"Tyrion\", \"Varys\"], [\"Jojen\", \"Meera\"], [\"Myrcella\", \"Tommen\"], [\"Tyrion\", \"Janos\"], [\"Tyrion\", \"Pycelle\"], [\"Ygritte\", \"Rattleshirt\"], [\"Jojen\", \"Samwell\"], [\"Tyrion\", \"Doran\"], [\"Tyrion\", \"Mace\"], [\"Tyrion\", \"Margaery\"], [\"Tyrion\", \"Bronn\"], [\"Tyrion\", \"Chataya\"], [\"Tyrion\", \"Loras\"], [\"Tyrion\", \"Petyr\"], [\"Ygritte\", \"Qhorin\"], [\"Eddard\", \"Cersei\"], [\"Eddard\", \"Jon\"], [\"Eddard\", \"Robb\"], [\"Eddard\", \"Robert\"], [\"Jaime\", \"Balon\"], [\"Jaime\", \"Robert\"], [\"Meryn\", \"Ilyn\"], [\"Sandor\", \"Gendry\"], [\"Sandor\", \"Ilyn\"], [\"Sandor\", \"Robert\"], [\"Eddard\", \"Rickon\"], [\"Jaime\", \"Elia\"], [\"Jaime\", \"Gregor\"], [\"Jaime\", \"Tyrion\"], [\"Eddard\", \"Jaime\"], [\"Eddard\", \"Sandor\"], [\"Jaime\", \"Meryn\"], [\"Jaime\", \"Qyburn\"], [\"Sandor\", \"Meryn\"], [\"Walton\", \"Jaime\"], [\"Jaime\", \"Edmure\"], [\"Jaime\", \"Joffrey\"], [\"Jaime\", \"Stannis\"], [\"Eddard\", \"Beric\"], [\"Eddard\", \"Sansa\"], [\"Jaime\", \"Renly\"], [\"Sandor\", \"Beric\"], [\"Belwas\", \"Illyrio\"], [\"Sandor\", \"Thoros\"], [\"Shae\", \"Varys\"], [\"Jaime\", \"Barristan\"], [\"Jaime\", \"Brienne\"], [\"Jaime\", \"Tommen\"], [\"Belwas\", \"Barristan\"], [\"Eddard\", \"Arya\"], [\"Eddard\", \"Bran\"], [\"Eddard\", \"Catelyn\"], [\"Jaime\", \"Loras\"], [\"Shae\", \"Chataya\"], [\"Edmure\", \"Roslin\"], [\"Irri\", \"Drogo\"], [\"Joffrey\", \"Ilyn\"], [\"Joffrey\", \"Oberyn\"], [\"Stannis\", \"Balon\"], [\"Stannis\", \"Melisandre\"], [\"Edmure\", \"Lothar\"], [\"Joffrey\", \"Gregor\"], [\"Joffrey\", \"Kevan\"], [\"Joffrey\", \"Myrcella\"], [\"Joffrey\", \"Tyrion\"], [\"Brynden\", \"Lothar\"], [\"Joffrey\", \"Meryn\"], [\"Joffrey\", \"Sandor\"], [\"Davos\", \"Salladhor\"], [\"Edmure\", \"Brynden\"], [\"Joffrey\", \"Stannis\"], [\"Stannis\", \"Davos\"], [\"Edmure\", \"Walder\"], [\"Brynden\", \"Walder\"], [\"Stannis\", \"Aemon\"], [\"Stannis\", \"Renly\"], [\"Val\", \"Dalla\"], [\"Joffrey\", \"Tommen\"], [\"Joffrey\", \"Margaery\"], [\"Podrick\", \"Margaery\"], [\"Stannis\", \"Samwell\"], [\"Davos\", \"Cressen\"], [\"Joffrey\", \"Loras\"], [\"Jon Arryn\", \"Robert\"], [\"Jorah\", \"Drogo\"], [\"Rhaegar\", \"Robert\"], [\"Beric\", \"Gendry\"], [\"Sansa\", \"Cersei\"], [\"Sansa\", \"Jon\"], [\"Sansa\", \"Robert\"], [\"Walder\", \"Roslin\"], [\"Rhaegar\", \"Elia\"], [\"Beric\", \"Anguy\"], [\"Sansa\", \"Kevan\"], [\"Sansa\", \"Marillion\"], [\"Sansa\", \"Myrcella\"], [\"Sansa\", \"Rickon\"], [\"Sansa\", \"Tyrion\"], [\"Viserys\", \"Tyrion\"], [\"Walder\", \"Lothar\"], [\"Jorah\", \"Belwas\"], [\"Sansa\", \"Jaime\"], [\"Sansa\", \"Sandor\"], [\"Sansa\", \"Shae\"], [\"Sansa\", \"Joffrey\"], [\"Sansa\", \"Olenna\"], [\"Sansa\", \"Podrick\"], [\"Gilly\", \"Craster\"], [\"Renly\", \"Varys\"], [\"Rhaegar\", \"Jorah\"], [\"Beric\", \"Thoros\"], [\"Craster\", \"Karl\"], [\"Sansa\", \"Renly\"], [\"Viserys\", \"Rhaegar\"], [\"Jorah\", \"Barristan\"], [\"Rhaegar\", \"Barristan\"], [\"Sansa\", \"Brienne\"], [\"Sansa\", \"Robert Arryn\"], [\"Varys\", \"Pycelle\"], [\"Jon Arryn\", \"Lysa\"], [\"Renly\", \"Margaery\"], [\"Aemon\", \"Grenn\"], [\"Aemon\", \"Samwell\"], [\"Sansa\", \"Arya\"], [\"Sansa\", \"Bran\"], [\"Sansa\", \"Lysa\"], [\"Sansa\", \"Margaery\"], [\"Jorah\", \"Daario\"], [\"Renly\", \"Loras\"], [\"Sansa\", \"Loras\"], [\"Sansa\", \"Petyr\"], [\"Walder\", \"Petyr\"], [\"Daenerys\", \"Robert\"], [\"Janos\", \"Alliser\"], [\"Janos\", \"Mance\"], [\"Daenerys\", \"Drogo\"], [\"Tywin\", \"Balon\"], [\"Tywin\", \"Cersei\"], [\"Tywin\", \"Oberyn\"], [\"Tywin\", \"Robert\"], [\"Robert Arryn\", \"Marillion\"], [\"Daenerys\", \"Missandei\"], [\"Tywin\", \"Gregor\"], [\"Tywin\", \"Kevan\"], [\"Tywin\", \"Tyrion\"], [\"Daenerys\", \"Belwas\"], [\"Tywin\", \"Jaime\"], [\"Daenerys\", \"Worm\"], [\"Janos\", \"Bowen\"], [\"Daenerys\", \"Irri\"], [\"Daenerys\", \"Kraznys\"], [\"Daenerys\", \"Rakharo\"], [\"Shireen\", \"Davos\"], [\"Tywin\", \"Brynden\"], [\"Tywin\", \"Joffrey\"], [\"Tywin\", \"Podrick\"], [\"Tywin\", \"Stannis\"], [\"Tywin\", \"Val\"], [\"Daenerys\", \"Rhaegar\"], [\"Daenerys\", \"Viserys\"], [\"Daenerys\", \"Jorah\"], [\"Tywin\", \"Varys\"], [\"Tywin\", \"Walder\"], [\"Roose\", \"Brienne\"], [\"Daenerys\", \"Barristan\"], [\"Tywin\", \"Pycelle\"], [\"Tywin\", \"Tommen\"], [\"Meera\", \"Samwell\"], [\"Daenerys\", \"Aegon\"], [\"Tommen\", \"Margaery\"], [\"Tywin\", \"Mace\"], [\"Rattleshirt\", \"Qhorin\"], [\"Brienne\", \"Loras\"], [\"Daenerys\", \"Daario\"], [\"Tywin\", \"Petyr\"], [\"Lysa\", \"Cersei\"], [\"Samwell\", \"Eddison\"], [\"Samwell\", \"Mance\"], [\"Arya\", \"Cersei\"], [\"Arya\", \"Gendry\"], [\"Arya\", \"Jon\"], [\"Arya\", \"Robert\"], [\"Bran\", \"Jon\"], [\"Catelyn\", \"Cersei\"], [\"Catelyn\", \"Robb\"], [\"Catelyn\", \"Roslin\"], [\"Lysa\", \"Marillion\"], [\"Lysa\", \"Tyrion\"], [\"Arya\", \"Anguy\"], [\"Arya\", \"Gregor\"], [\"Arya\", \"Rickon\"], [\"Arya\", \"Tyrion\"], [\"Bran\", \"Jojen\"], [\"Bran\", \"Rickon\"], [\"Catelyn\", \"Tyrion\"], [\"Arya\", \"Jaime\"], [\"Arya\", \"Sandor\"], [\"Catelyn\", \"Jaime\"], [\"Rickard\", \"Brynden\"], [\"Samwell\", \"Bowen\"], [\"Arya\", \"Brynden\"], [\"Arya\", \"Joffrey\"], [\"Catelyn\", \"Brynden\"], [\"Catelyn\", \"Edmure\"], [\"Catelyn\", \"Stannis\"], [\"Samwell\", \"Craster\"], [\"Samwell\", \"Gilly\"], [\"Arya\", \"Beric\"], [\"Arya\", \"Thoros\"], [\"Bran\", \"Theon\"], [\"Catelyn\", \"Sansa\"], [\"Catelyn\", \"Walder\"], [\"Lysa\", \"Robert Arryn\"], [\"Lysa\", \"Tywin\"], [\"Samwell\", \"Janos\"], [\"Arya\", \"Roose\"], [\"Bran\", \"Meera\"], [\"Catelyn\", \"Brienne\"], [\"Catelyn\", \"Jeyne\"], [\"Catelyn\", \"Roose\"], [\"Samwell\", \"Grenn\"], [\"Arya\", \"Bran\"], [\"Bran\", \"Samwell\"], [\"Catelyn\", \"Bran\"], [\"Catelyn\", \"Lysa\"], [\"Lysa\", \"Hoster\"], [\"Lysa\", \"Petyr\"], [\"Samwell\", \"Qhorin\"], [\"Bran\", \"Hodor\"], [\"Bran\", \"Luwin\"], [\"Bran\", \"Nan\"], [\"Catelyn\", \"Hoster\"], [\"Catelyn\", \"Petyr\"], [\"Aerys\", \"Robert\"], [\"Daario\", \"Drogo\"], [\"Hodor\", \"Jojen\"], [\"Aerys\", \"Tyrion\"], [\"Bronn\", \"Gregor\"], [\"Aerys\", \"Jaime\"], [\"Hoster\", \"Edmure\"], [\"Loras\", \"Olenna\"], [\"Bronn\", \"Podrick\"], [\"Daario\", \"Irri\"], [\"Hodor\", \"Meera\"], [\"Aerys\", \"Tywin\"], [\"Loras\", \"Margaery\"], [\"Luwin\", \"Nan\"]], \"ipython\": true, \"error_msg\": \"\"}, e);\n",
       "                });\n",
       "            })();\n",
       "        "
      ]
     },
     "metadata": {},
     "output_type": "display_data"
    }
   ],
   "source": [
    "g.show(vlabel='id')"
   ]
  },
  {
   "cell_type": "code",
   "execution_count": null,
   "metadata": {
    "collapsed": true
   },
   "outputs": [],
   "source": []
  }
 ],
 "metadata": {
  "kernelspec": {
   "display_name": "Python [gl-env]",
   "language": "python",
   "name": "Python [gl-env]"
  },
  "language_info": {
   "codemirror_mode": {
    "name": "ipython",
    "version": 2
   },
   "file_extension": ".py",
   "mimetype": "text/x-python",
   "name": "python",
   "nbconvert_exporter": "python",
   "pygments_lexer": "ipython2",
   "version": "2.7.12"
  }
 },
 "nbformat": 4,
 "nbformat_minor": 0
}
