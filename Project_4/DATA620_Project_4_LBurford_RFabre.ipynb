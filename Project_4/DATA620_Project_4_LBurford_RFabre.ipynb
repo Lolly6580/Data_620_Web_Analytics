{
 "cells": [
  {
   "cell_type": "markdown",
   "metadata": {},
   "source": [
    "6.4) Using the movie review document classifier discussed in this chapter, generate a list of the 30 features that the classifier finds to be most informative.  "
   ]
  },
  {
   "cell_type": "code",
   "execution_count": 1,
   "metadata": {
    "collapsed": false
   },
   "outputs": [],
   "source": [
    "import nltk, random\n",
    "from nltk.corpus import movie_reviews\n",
    "seed = 41"
   ]
  },
  {
   "cell_type": "code",
   "execution_count": 2,
   "metadata": {
    "collapsed": true
   },
   "outputs": [],
   "source": [
    "documents = [(list(movie_reviews.words(fileid)), category)\n",
    "            for category in movie_reviews.categories()\n",
    "            for fileid in movie_reviews.fileids(category)]"
   ]
  },
  {
   "cell_type": "code",
   "execution_count": 3,
   "metadata": {
    "collapsed": false
   },
   "outputs": [
    {
     "name": "stdout",
     "output_type": "stream",
     "text": [
      "Number of all words: 39768\n",
      "Number of key words: 2000\n"
     ]
    }
   ],
   "source": [
    "words = movie_reviews.words()\n",
    "all_words = nltk.FreqDist(w.lower() for w in words)\n",
    "print \"Number of all words: {0}\".format(len(all_words))\n",
    "\n",
    "word_features = all_words.keys()[:2000]\n",
    "print \"Number of key words: {0}\".format(len(word_features))"
   ]
  },
  {
   "cell_type": "code",
   "execution_count": 4,
   "metadata": {
    "collapsed": false
   },
   "outputs": [
    {
     "data": {
      "text/plain": [
       "[u'sonja',\n",
       " u'askew',\n",
       " u'woods',\n",
       " u'spiders',\n",
       " u'bazooms',\n",
       " u'hanging',\n",
       " u'francesca',\n",
       " u'comically',\n",
       " u'localized',\n",
       " u'disobeying']"
      ]
     },
     "execution_count": 4,
     "metadata": {},
     "output_type": "execute_result"
    }
   ],
   "source": [
    "word_features[:10]"
   ]
  },
  {
   "cell_type": "code",
   "execution_count": 5,
   "metadata": {
    "collapsed": false
   },
   "outputs": [],
   "source": [
    "def document_features(document):\n",
    "    document_words = set(document)\n",
    "    features = {}\n",
    "    for word in word_features:\n",
    "        features['contains({0})'.format(word)] = (word in document_words)    \n",
    "    return features\n",
    "\n",
    "featuresets = [(document_features(d), c) for (d,c) in documents]"
   ]
  },
  {
   "cell_type": "code",
   "execution_count": 6,
   "metadata": {
    "collapsed": true
   },
   "outputs": [],
   "source": [
    "train_set, test_set = featuresets[100:], featuresets[:100]"
   ]
  },
  {
   "cell_type": "code",
   "execution_count": 7,
   "metadata": {
    "collapsed": true
   },
   "outputs": [],
   "source": [
    "random.seed(seed)\n",
    "classifier = nltk.NaiveBayesClassifier.train(train_set)"
   ]
  },
  {
   "cell_type": "code",
   "execution_count": 8,
   "metadata": {
    "collapsed": false
   },
   "outputs": [
    {
     "name": "stdout",
     "output_type": "stream",
     "text": [
      "0.7\n"
     ]
    }
   ],
   "source": [
    "print(nltk.classify.accuracy(classifier, test_set))"
   ]
  },
  {
   "cell_type": "code",
   "execution_count": 9,
   "metadata": {
    "collapsed": false
   },
   "outputs": [
    {
     "name": "stdout",
     "output_type": "stream",
     "text": [
      "Most Informative Features\n",
      "          contains(sans) = True              neg : pos    =     10.0 : 1.0\n",
      "    contains(mediocrity) = True              neg : pos    =      8.5 : 1.0\n",
      "         contains(wires) = True              neg : pos    =      7.0 : 1.0\n",
      "          contains(hugo) = True              pos : neg    =      6.9 : 1.0\n",
      "     contains(dismissed) = True              pos : neg    =      6.3 : 1.0\n",
      "   contains(bruckheimer) = True              neg : pos    =      6.3 : 1.0\n",
      "   contains(overwhelmed) = True              pos : neg    =      5.7 : 1.0\n",
      "        contains(fabric) = True              pos : neg    =      5.7 : 1.0\n",
      "   contains(understands) = True              pos : neg    =      5.6 : 1.0\n",
      "           contains(ugh) = True              neg : pos    =      5.6 : 1.0\n",
      "     contains(uplifting) = True              pos : neg    =      5.5 : 1.0\n",
      "        contains(doubts) = True              pos : neg    =      5.2 : 1.0\n",
      "         contains(tripe) = True              neg : pos    =      5.1 : 1.0\n",
      "  contains(accomplishes) = True              pos : neg    =      5.1 : 1.0\n",
      "       contains(topping) = True              pos : neg    =      5.1 : 1.0\n",
      "          contains(wits) = True              pos : neg    =      5.1 : 1.0\n",
      "          contains(lang) = True              pos : neg    =      5.1 : 1.0\n",
      "  contains(effortlessly) = True              pos : neg    =      5.0 : 1.0\n",
      "       contains(quicker) = True              neg : pos    =      4.8 : 1.0\n",
      "         contains(locks) = True              neg : pos    =      4.8 : 1.0\n",
      "     contains(testament) = True              pos : neg    =      4.5 : 1.0\n",
      "           contains(wcw) = True              neg : pos    =      4.1 : 1.0\n",
      "       contains(maxwell) = True              neg : pos    =      4.1 : 1.0\n",
      "      contains(squabble) = True              neg : pos    =      4.1 : 1.0\n",
      "        contains(minnie) = True              pos : neg    =      4.0 : 1.0\n",
      "          contains(leia) = True              pos : neg    =      3.9 : 1.0\n",
      "      contains(matheson) = True              pos : neg    =      3.9 : 1.0\n",
      "         contains(spins) = True              pos : neg    =      3.9 : 1.0\n",
      "            contains(33) = True              pos : neg    =      3.9 : 1.0\n",
      "          contains(wang) = True              pos : neg    =      3.9 : 1.0\n"
     ]
    }
   ],
   "source": [
    "classifier.show_most_informative_features(30)"
   ]
  },
  {
   "cell_type": "markdown",
   "metadata": {},
   "source": [
    "Can you explain why these particular features are informative? "
   ]
  },
  {
   "cell_type": "markdown",
   "metadata": {},
   "source": [
    "I can explain how they are informative as the list above indicates how much more likely a review will be negative or positive if these features are included. Explaining why they are informative is tougher.  Perhaps it makes sense that words like sans, mediocrity, tripe, or ugh would increase the likelihood of a negative review since these have negative connotations, but why wires, wcw, or quicker?  "
   ]
  },
  {
   "cell_type": "markdown",
   "metadata": {},
   "source": [
    "Do you find any of them surprising?"
   ]
  },
  {
   "cell_type": "markdown",
   "metadata": {},
   "source": [
    "I find several of them surprising.  Doubts and dismissed for example sound more negative to me, but both indicate a more likely positive review. Why does 33 affect the outcome at all?  And some of these looks like names - leia, matheson, bruckheimer, and lang - I'm surprised that those specific names would top the list of indicators.  If they aren't names, I don't know what they mean.  Interesting..."
   ]
  }
 ],
 "metadata": {
  "anaconda-cloud": {},
  "kernelspec": {
   "display_name": "Python (gl-env)",
   "language": "python",
   "name": "gl-env"
  },
  "language_info": {
   "codemirror_mode": {
    "name": "ipython",
    "version": 2
   },
   "file_extension": ".py",
   "mimetype": "text/x-python",
   "name": "python",
   "nbconvert_exporter": "python",
   "pygments_lexer": "ipython2",
   "version": "2.7.11"
  }
 },
 "nbformat": 4,
 "nbformat_minor": 0
}
