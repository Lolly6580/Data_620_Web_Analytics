{
 "cells": [
  {
   "cell_type": "code",
   "execution_count": 1,
   "metadata": {
    "collapsed": false
   },
   "outputs": [],
   "source": [
    "import graphlab as gl\n",
    "gl.canvas.set_target('ipynb') \n",
    "import networkx as nx\n",
    "from networkx.algorithms import bipartite\n",
    "import pandas as pd\n",
    "import matplotlib.pyplot as plt\n",
    "%matplotlib inline"
   ]
  },
  {
   "cell_type": "code",
   "execution_count": 2,
   "metadata": {
    "collapsed": false
   },
   "outputs": [
    {
     "name": "stdout",
     "output_type": "stream",
     "text": [
      "This non-commercial license of GraphLab Create for academic use is assigned to lara.burford@spsmail.cuny.edu and will expire on September 01, 2017.\n"
     ]
    },
    {
     "name": "stderr",
     "output_type": "stream",
     "text": [
      "[INFO] graphlab.cython.cy_server: GraphLab Create v2.1 started. Logging: C:\\Users\\lburford\\AppData\\Local\\Temp\\graphlab_server_1475546849.log.0\n"
     ]
    },
    {
     "data": {
      "text/html": [
       "<pre>Finished parsing file C:\\Users\\lburford\\Documents\\tutorials-master\\tutorials-master\\notebooks\\state_vertices.csv</pre>"
      ],
      "text/plain": [
       "Finished parsing file C:\\Users\\lburford\\Documents\\tutorials-master\\tutorials-master\\notebooks\\state_vertices.csv"
      ]
     },
     "metadata": {},
     "output_type": "display_data"
    },
    {
     "data": {
      "text/html": [
       "<pre>Parsing completed. Parsed 50 lines in 0.031251 secs.</pre>"
      ],
      "text/plain": [
       "Parsing completed. Parsed 50 lines in 0.031251 secs."
      ]
     },
     "metadata": {},
     "output_type": "display_data"
    },
    {
     "name": "stdout",
     "output_type": "stream",
     "text": [
      "------------------------------------------------------\n",
      "Inferred types from first 100 line(s) of file as \n",
      "column_type_hints=[str,str]\n",
      "If parsing fails due to incorrect types, you can correct\n",
      "the inferred type list above and pass it to read_csv in\n",
      "the column_type_hints argument\n",
      "------------------------------------------------------\n"
     ]
    },
    {
     "data": {
      "text/html": [
       "<pre>Finished parsing file C:\\Users\\lburford\\Documents\\tutorials-master\\tutorials-master\\notebooks\\state_vertices.csv</pre>"
      ],
      "text/plain": [
       "Finished parsing file C:\\Users\\lburford\\Documents\\tutorials-master\\tutorials-master\\notebooks\\state_vertices.csv"
      ]
     },
     "metadata": {},
     "output_type": "display_data"
    },
    {
     "data": {
      "text/html": [
       "<pre>Parsing completed. Parsed 50 lines in 0.015628 secs.</pre>"
      ],
      "text/plain": [
       "Parsing completed. Parsed 50 lines in 0.015628 secs."
      ]
     },
     "metadata": {},
     "output_type": "display_data"
    },
    {
     "data": {
      "text/html": [
       "<pre>Finished parsing file C:\\Users\\lburford\\Documents\\tutorials-master\\tutorials-master\\notebooks\\divorce_vertices.csv</pre>"
      ],
      "text/plain": [
       "Finished parsing file C:\\Users\\lburford\\Documents\\tutorials-master\\tutorials-master\\notebooks\\divorce_vertices.csv"
      ]
     },
     "metadata": {},
     "output_type": "display_data"
    },
    {
     "data": {
      "text/html": [
       "<pre>Parsing completed. Parsed 9 lines in 0.015636 secs.</pre>"
      ],
      "text/plain": [
       "Parsing completed. Parsed 9 lines in 0.015636 secs."
      ]
     },
     "metadata": {},
     "output_type": "display_data"
    },
    {
     "name": "stdout",
     "output_type": "stream",
     "text": [
      "------------------------------------------------------\n",
      "Inferred types from first 100 line(s) of file as \n",
      "column_type_hints=[str]\n",
      "If parsing fails due to incorrect types, you can correct\n",
      "the inferred type list above and pass it to read_csv in\n",
      "the column_type_hints argument\n",
      "------------------------------------------------------\n"
     ]
    },
    {
     "data": {
      "text/html": [
       "<pre>Finished parsing file C:\\Users\\lburford\\Documents\\tutorials-master\\tutorials-master\\notebooks\\divorce_vertices.csv</pre>"
      ],
      "text/plain": [
       "Finished parsing file C:\\Users\\lburford\\Documents\\tutorials-master\\tutorials-master\\notebooks\\divorce_vertices.csv"
      ]
     },
     "metadata": {},
     "output_type": "display_data"
    },
    {
     "data": {
      "text/html": [
       "<pre>Parsing completed. Parsed 9 lines in 0.015622 secs.</pre>"
      ],
      "text/plain": [
       "Parsing completed. Parsed 9 lines in 0.015622 secs."
      ]
     },
     "metadata": {},
     "output_type": "display_data"
    },
    {
     "data": {
      "text/html": [
       "<pre>Finished parsing file C:\\Users\\lburford\\Documents\\tutorials-master\\tutorials-master\\notebooks\\divorce_edges.csv</pre>"
      ],
      "text/plain": [
       "Finished parsing file C:\\Users\\lburford\\Documents\\tutorials-master\\tutorials-master\\notebooks\\divorce_edges.csv"
      ]
     },
     "metadata": {},
     "output_type": "display_data"
    },
    {
     "data": {
      "text/html": [
       "<pre>Parsing completed. Parsed 100 lines in 0.03727 secs.</pre>"
      ],
      "text/plain": [
       "Parsing completed. Parsed 100 lines in 0.03727 secs."
      ]
     },
     "metadata": {},
     "output_type": "display_data"
    },
    {
     "name": "stdout",
     "output_type": "stream",
     "text": [
      "------------------------------------------------------\n",
      "Inferred types from first 100 line(s) of file as \n",
      "column_type_hints=[str,str]\n",
      "If parsing fails due to incorrect types, you can correct\n",
      "the inferred type list above and pass it to read_csv in\n",
      "the column_type_hints argument\n",
      "------------------------------------------------------\n"
     ]
    },
    {
     "data": {
      "text/html": [
       "<pre>Finished parsing file C:\\Users\\lburford\\Documents\\tutorials-master\\tutorials-master\\notebooks\\divorce_edges.csv</pre>"
      ],
      "text/plain": [
       "Finished parsing file C:\\Users\\lburford\\Documents\\tutorials-master\\tutorials-master\\notebooks\\divorce_edges.csv"
      ]
     },
     "metadata": {},
     "output_type": "display_data"
    },
    {
     "data": {
      "text/html": [
       "<pre>Parsing completed. Parsed 225 lines in 0.01564 secs.</pre>"
      ],
      "text/plain": [
       "Parsing completed. Parsed 225 lines in 0.01564 secs."
      ]
     },
     "metadata": {},
     "output_type": "display_data"
    }
   ],
   "source": [
    "vert1 = gl.SFrame.read_csv('state_vertices.csv')\n",
    "vert2 = gl.SFrame.read_csv('divorce_vertices.csv')\n",
    "ed = gl.SFrame.read_csv('divorce_edges.csv')\n"
   ]
  },
  {
   "cell_type": "code",
   "execution_count": 3,
   "metadata": {
    "collapsed": false
   },
   "outputs": [
    {
     "data": {
      "application/javascript": [
       "$(\"head\").append($(\"<link/>\").attr({\n",
       "  rel:  \"stylesheet\",\n",
       "  type: \"text/css\",\n",
       "  href: \"//cdnjs.cloudflare.com/ajax/libs/font-awesome/4.1.0/css/font-awesome.min.css\"\n",
       "}));\n",
       "$(\"head\").append($(\"<link/>\").attr({\n",
       "  rel:  \"stylesheet\",\n",
       "  type: \"text/css\",\n",
       "  href: \"https://static.turi.com/products/graphlab-create/2.1/canvas/css/canvas.css\"\n",
       "}));\n",
       "\n",
       "            (function(){\n",
       "\n",
       "                var e = null;\n",
       "                if (typeof element == 'undefined') {\n",
       "                    var scripts = document.getElementsByTagName('script');\n",
       "                    var thisScriptTag = scripts[scripts.length-1];\n",
       "                    var parentDiv = thisScriptTag.parentNode;\n",
       "                    e = document.createElement('div');\n",
       "                    parentDiv.appendChild(e);\n",
       "                } else {\n",
       "                    e = element[0];\n",
       "                }\n",
       "\n",
       "                if (typeof requirejs !== 'undefined') {\n",
       "                    // disable load timeout; ipython_app.js is large and can take a while to load.\n",
       "                    requirejs.config({waitSeconds: 0});\n",
       "                }\n",
       "\n",
       "                require(['https://static.turi.com/products/graphlab-create/2.1/canvas/js/ipython_app.js'], function(IPythonApp){\n",
       "                    var app = new IPythonApp();\n",
       "                    app.attachView('sframe','Summary', {\"ipython\": true, \"sketch\": {\"State\": {\"complete\": true, \"numeric\": false, \"num_unique\": 50, \"num_undefined\": 0, \"progress\": 1.0, \"frequent_items\": {\"Mississippi\": {\"frequency\": 1, \"value\": \"Mississippi\"}, \"Oklahoma\": {\"frequency\": 1, \"value\": \"Oklahoma\"}, \"Wyoming\": {\"frequency\": 1, \"value\": \"Wyoming\"}, \"Minnesota\": {\"frequency\": 1, \"value\": \"Minnesota\"}, \"Illinois\": {\"frequency\": 1, \"value\": \"Illinois\"}, \"Arkansas\": {\"frequency\": 1, \"value\": \"Arkansas\"}, \"New Mexico\": {\"frequency\": 1, \"value\": \"New Mexico\"}, \"Indiana\": {\"frequency\": 1, \"value\": \"Indiana\"}, \"Maryland\": {\"frequency\": 1, \"value\": \"Maryland\"}, \"Louisiana\": {\"frequency\": 1, \"value\": \"Louisiana\"}, \"Idaho\": {\"frequency\": 1, \"value\": \"Idaho\"}, \"Tennessee\": {\"frequency\": 1, \"value\": \"Tennessee\"}, \"Arizona\": {\"frequency\": 1, \"value\": \"Arizona\"}, \"Iowa\": {\"frequency\": 1, \"value\": \"Iowa\"}, \"Michigan\": {\"frequency\": 1, \"value\": \"Michigan\"}, \"Kansas\": {\"frequency\": 1, \"value\": \"Kansas\"}, \"Utah\": {\"frequency\": 1, \"value\": \"Utah\"}, \"Virginia\": {\"frequency\": 1, \"value\": \"Virginia\"}, \"Oregon\": {\"frequency\": 1, \"value\": \"Oregon\"}, \"Connecticut\": {\"frequency\": 1, \"value\": \"Connecticut\"}, \"Montana\": {\"frequency\": 1, \"value\": \"Montana\"}, \"California\": {\"frequency\": 1, \"value\": \"California\"}, \"Massachusetts\": {\"frequency\": 1, \"value\": \"Massachusetts\"}, \"West Virginia\": {\"frequency\": 1, \"value\": \"West Virginia\"}, \"South Carolina\": {\"frequency\": 1, \"value\": \"South Carolina\"}, \"New Hampshire\": {\"frequency\": 1, \"value\": \"New Hampshire\"}, \"Wisconsin\": {\"frequency\": 1, \"value\": \"Wisconsin\"}, \"Vermont\": {\"frequency\": 1, \"value\": \"Vermont\"}, \"Georgia\": {\"frequency\": 1, \"value\": \"Georgia\"}, \"North Dakota\": {\"frequency\": 1, \"value\": \"North Dakota\"}, \"Pennsylvania\": {\"frequency\": 1, \"value\": \"Pennsylvania\"}, \"Florida\": {\"frequency\": 1, \"value\": \"Florida\"}, \"Alaska\": {\"frequency\": 1, \"value\": \"Alaska\"}, \"Kentucky\": {\"frequency\": 1, \"value\": \"Kentucky\"}, \"Hawaii\": {\"frequency\": 1, \"value\": \"Hawaii\"}, \"Nebraska\": {\"frequency\": 1, \"value\": \"Nebraska\"}, \"Missouri\": {\"frequency\": 1, \"value\": \"Missouri\"}, \"Ohio\": {\"frequency\": 1, \"value\": \"Ohio\"}, \"Alabama\": {\"frequency\": 1, \"value\": \"Alabama\"}, \"Rhode Island\": {\"frequency\": 1, \"value\": \"Rhode Island\"}, \"South Dakota\": {\"frequency\": 1, \"value\": \"South Dakota\"}, \"Colorado\": {\"frequency\": 1, \"value\": \"Colorado\"}, \"New Jersey\": {\"frequency\": 1, \"value\": \"New Jersey\"}, \"Washington\": {\"frequency\": 1, \"value\": \"Washington\"}, \"North Carolina\": {\"frequency\": 1, \"value\": \"North Carolina\"}, \"New York\": {\"frequency\": 1, \"value\": \"New York\"}, \"Texas\": {\"frequency\": 1, \"value\": \"Texas\"}, \"Nevada\": {\"frequency\": 1, \"value\": \"Nevada\"}, \"Delaware\": {\"frequency\": 1, \"value\": \"Delaware\"}, \"Maine\": {\"frequency\": 1, \"value\": \"Maine\"}}, \"size\": 50}, \"Region\": {\"complete\": true, \"numeric\": false, \"num_unique\": 4, \"num_undefined\": 0, \"progress\": 1.0, \"frequent_items\": {\"West\": {\"frequency\": 13, \"value\": \"West\"}, \"Northeast\": {\"frequency\": 9, \"value\": \"Northeast\"}, \"Midwest\": {\"frequency\": 12, \"value\": \"Midwest\"}, \"South\": {\"frequency\": 16, \"value\": \"South\"}}, \"size\": 50}}, \"selected_variable\": {\"name\": [\"vert1\"], \"descriptives\": {\"rows\": 50, \"columns\": 2}, \"view_component\": \"Summary\", \"view_file\": \"sframe\", \"view_params\": {\"y\": null, \"x\": null, \"columns\": [\"State\", \"Region\"], \"view\": null}, \"view_components\": [\"Summary\", \"Table\", \"Bar Chart\", \"BoxWhisker Plot\", \"Line Chart\", \"Scatter Plot\", \"Heat Map\", \"Plots\"], \"type\": \"SFrame\", \"columns\": [{\"dtype\": \"str\", \"name\": \"State\"}, {\"dtype\": \"str\", \"name\": \"Region\"}], \"column_identifiers\": [\"State\", \"Region\"]}, \"columns\": [{\"dtype\": \"str\", \"name\": \"State\"}, {\"dtype\": \"str\", \"name\": \"Region\"}]}, e);\n",
       "                });\n",
       "            })();\n",
       "        "
      ]
     },
     "metadata": {},
     "output_type": "display_data"
    },
    {
     "data": {
      "application/javascript": [
       "$(\"head\").append($(\"<link/>\").attr({\n",
       "  rel:  \"stylesheet\",\n",
       "  type: \"text/css\",\n",
       "  href: \"//cdnjs.cloudflare.com/ajax/libs/font-awesome/4.1.0/css/font-awesome.min.css\"\n",
       "}));\n",
       "$(\"head\").append($(\"<link/>\").attr({\n",
       "  rel:  \"stylesheet\",\n",
       "  type: \"text/css\",\n",
       "  href: \"https://static.turi.com/products/graphlab-create/2.1/canvas/css/canvas.css\"\n",
       "}));\n",
       "\n",
       "            (function(){\n",
       "\n",
       "                var e = null;\n",
       "                if (typeof element == 'undefined') {\n",
       "                    var scripts = document.getElementsByTagName('script');\n",
       "                    var thisScriptTag = scripts[scripts.length-1];\n",
       "                    var parentDiv = thisScriptTag.parentNode;\n",
       "                    e = document.createElement('div');\n",
       "                    parentDiv.appendChild(e);\n",
       "                } else {\n",
       "                    e = element[0];\n",
       "                }\n",
       "\n",
       "                if (typeof requirejs !== 'undefined') {\n",
       "                    // disable load timeout; ipython_app.js is large and can take a while to load.\n",
       "                    requirejs.config({waitSeconds: 0});\n",
       "                }\n",
       "\n",
       "                require(['https://static.turi.com/products/graphlab-create/2.1/canvas/js/ipython_app.js'], function(IPythonApp){\n",
       "                    var app = new IPythonApp();\n",
       "                    app.attachView('sframe','Summary', {\"ipython\": true, \"sketch\": {\"Legal_Base\": {\"complete\": true, \"numeric\": false, \"num_unique\": 9, \"num_undefined\": 0, \"progress\": 1.0, \"frequent_items\": {\"nonsupport\": {\"frequency\": 1, \"value\": \"nonsupport\"}, \"alcohol\": {\"frequency\": 1, \"value\": \"alcohol\"}, \"felony\": {\"frequency\": 1, \"value\": \"felony\"}, \"cruelty\": {\"frequency\": 1, \"value\": \"cruelty\"}, \"insanity\": {\"frequency\": 1, \"value\": \"insanity\"}, \"incompatability\": {\"frequency\": 1, \"value\": \"incompatability\"}, \"desertion\": {\"frequency\": 1, \"value\": \"desertion\"}, \"separation\": {\"frequency\": 1, \"value\": \"separation\"}, \"impotence\": {\"frequency\": 1, \"value\": \"impotence\"}}, \"size\": 9}}, \"selected_variable\": {\"name\": [\"vert2\"], \"descriptives\": {\"rows\": 9, \"columns\": 1}, \"view_component\": \"Summary\", \"view_file\": \"sframe\", \"view_params\": {\"y\": null, \"x\": null, \"columns\": [\"Legal_Base\"], \"view\": null}, \"view_components\": [\"Summary\", \"Table\", \"Bar Chart\", \"BoxWhisker Plot\", \"Line Chart\", \"Scatter Plot\", \"Heat Map\", \"Plots\"], \"type\": \"SFrame\", \"columns\": [{\"dtype\": \"str\", \"name\": \"Legal_Base\"}], \"column_identifiers\": [\"Legal_Base\"]}, \"columns\": [{\"dtype\": \"str\", \"name\": \"Legal_Base\"}]}, e);\n",
       "                });\n",
       "            })();\n",
       "        "
      ]
     },
     "metadata": {},
     "output_type": "display_data"
    },
    {
     "data": {
      "application/javascript": [
       "$(\"head\").append($(\"<link/>\").attr({\n",
       "  rel:  \"stylesheet\",\n",
       "  type: \"text/css\",\n",
       "  href: \"//cdnjs.cloudflare.com/ajax/libs/font-awesome/4.1.0/css/font-awesome.min.css\"\n",
       "}));\n",
       "$(\"head\").append($(\"<link/>\").attr({\n",
       "  rel:  \"stylesheet\",\n",
       "  type: \"text/css\",\n",
       "  href: \"https://static.turi.com/products/graphlab-create/2.1/canvas/css/canvas.css\"\n",
       "}));\n",
       "\n",
       "            (function(){\n",
       "\n",
       "                var e = null;\n",
       "                if (typeof element == 'undefined') {\n",
       "                    var scripts = document.getElementsByTagName('script');\n",
       "                    var thisScriptTag = scripts[scripts.length-1];\n",
       "                    var parentDiv = thisScriptTag.parentNode;\n",
       "                    e = document.createElement('div');\n",
       "                    parentDiv.appendChild(e);\n",
       "                } else {\n",
       "                    e = element[0];\n",
       "                }\n",
       "\n",
       "                if (typeof requirejs !== 'undefined') {\n",
       "                    // disable load timeout; ipython_app.js is large and can take a while to load.\n",
       "                    requirejs.config({waitSeconds: 0});\n",
       "                }\n",
       "\n",
       "                require(['https://static.turi.com/products/graphlab-create/2.1/canvas/js/ipython_app.js'], function(IPythonApp){\n",
       "                    var app = new IPythonApp();\n",
       "                    app.attachView('sframe','Summary', {\"ipython\": true, \"sketch\": {\"Source\": {\"complete\": true, \"numeric\": false, \"num_unique\": 50, \"num_undefined\": 0, \"progress\": 1.0, \"frequent_items\": {\"Mississippi\": {\"frequency\": 7, \"value\": \"Mississippi\"}, \"Oklahoma\": {\"frequency\": 8, \"value\": \"Oklahoma\"}, \"Wyoming\": {\"frequency\": 3, \"value\": \"Wyoming\"}, \"Minnesota\": {\"frequency\": 1, \"value\": \"Minnesota\"}, \"Illinois\": {\"frequency\": 5, \"value\": \"Illinois\"}, \"Arkansas\": {\"frequency\": 8, \"value\": \"Arkansas\"}, \"New Mexico\": {\"frequency\": 3, \"value\": \"New Mexico\"}, \"Indiana\": {\"frequency\": 4, \"value\": \"Indiana\"}, \"Maryland\": {\"frequency\": 6, \"value\": \"Maryland\"}, \"Louisiana\": {\"frequency\": 2, \"value\": \"Louisiana\"}, \"Idaho\": {\"frequency\": 8, \"value\": \"Idaho\"}, \"Tennessee\": {\"frequency\": 7, \"value\": \"Tennessee\"}, \"Arizona\": {\"frequency\": 1, \"value\": \"Arizona\"}, \"Iowa\": {\"frequency\": 1, \"value\": \"Iowa\"}, \"Michigan\": {\"frequency\": 1, \"value\": \"Michigan\"}, \"Kansas\": {\"frequency\": 7, \"value\": \"Kansas\"}, \"Utah\": {\"frequency\": 7, \"value\": \"Utah\"}, \"Virginia\": {\"frequency\": 3, \"value\": \"Virginia\"}, \"Oregon\": {\"frequency\": 1, \"value\": \"Oregon\"}, \"Connecticut\": {\"frequency\": 8, \"value\": \"Connecticut\"}, \"Montana\": {\"frequency\": 1, \"value\": \"Montana\"}, \"California\": {\"frequency\": 2, \"value\": \"California\"}, \"Massachusetts\": {\"frequency\": 8, \"value\": \"Massachusetts\"}, \"West Virginia\": {\"frequency\": 7, \"value\": \"West Virginia\"}, \"South Carolina\": {\"frequency\": 4, \"value\": \"South Carolina\"}, \"New Hampshire\": {\"frequency\": 7, \"value\": \"New Hampshire\"}, \"Wisconsin\": {\"frequency\": 2, \"value\": \"Wisconsin\"}, \"Vermont\": {\"frequency\": 6, \"value\": \"Vermont\"}, \"Georgia\": {\"frequency\": 7, \"value\": \"Georgia\"}, \"North Dakota\": {\"frequency\": 8, \"value\": \"North Dakota\"}, \"Pennsylvania\": {\"frequency\": 5, \"value\": \"Pennsylvania\"}, \"Florida\": {\"frequency\": 2, \"value\": \"Florida\"}, \"Alaska\": {\"frequency\": 7, \"value\": \"Alaska\"}, \"Kentucky\": {\"frequency\": 1, \"value\": \"Kentucky\"}, \"Hawaii\": {\"frequency\": 2, \"value\": \"Hawaii\"}, \"Nebraska\": {\"frequency\": 1, \"value\": \"Nebraska\"}, \"Missouri\": {\"frequency\": 1, \"value\": \"Missouri\"}, \"Ohio\": {\"frequency\": 7, \"value\": \"Ohio\"}, \"Alabama\": {\"frequency\": 9, \"value\": \"Alabama\"}, \"Rhode Island\": {\"frequency\": 8, \"value\": \"Rhode Island\"}, \"South Dakota\": {\"frequency\": 5, \"value\": \"South Dakota\"}, \"Colorado\": {\"frequency\": 1, \"value\": \"Colorado\"}, \"New Jersey\": {\"frequency\": 6, \"value\": \"New Jersey\"}, \"Washington\": {\"frequency\": 2, \"value\": \"Washington\"}, \"North Carolina\": {\"frequency\": 3, \"value\": \"North Carolina\"}, \"New York\": {\"frequency\": 4, \"value\": \"New York\"}, \"Texas\": {\"frequency\": 6, \"value\": \"Texas\"}, \"Nevada\": {\"frequency\": 3, \"value\": \"Nevada\"}, \"Delaware\": {\"frequency\": 2, \"value\": \"Delaware\"}, \"Maine\": {\"frequency\": 7, \"value\": \"Maine\"}}, \"size\": 225}, \"Target\": {\"complete\": true, \"numeric\": false, \"num_unique\": 9, \"num_undefined\": 0, \"progress\": 1.0, \"frequent_items\": {\"nonsupport\": {\"frequency\": 14, \"value\": \"nonsupport\"}, \"alcohol\": {\"frequency\": 22, \"value\": \"alcohol\"}, \"felony\": {\"frequency\": 28, \"value\": \"felony\"}, \"cruelty\": {\"frequency\": 29, \"value\": \"cruelty\"}, \"insanity\": {\"frequency\": 24, \"value\": \"insanity\"}, \"incompatability\": {\"frequency\": 37, \"value\": \"incompatability\"}, \"desertion\": {\"frequency\": 28, \"value\": \"desertion\"}, \"separation\": {\"frequency\": 23, \"value\": \"separation\"}, \"impotence\": {\"frequency\": 20, \"value\": \"impotence\"}}, \"size\": 225}}, \"selected_variable\": {\"name\": [\"ed\"], \"descriptives\": {\"rows\": 225, \"columns\": 2}, \"view_component\": \"Summary\", \"view_file\": \"sframe\", \"view_params\": {\"y\": null, \"x\": null, \"columns\": [\"Source\", \"Target\"], \"view\": null}, \"view_components\": [\"Summary\", \"Table\", \"Bar Chart\", \"BoxWhisker Plot\", \"Line Chart\", \"Scatter Plot\", \"Heat Map\", \"Plots\"], \"type\": \"SFrame\", \"columns\": [{\"dtype\": \"str\", \"name\": \"Source\"}, {\"dtype\": \"str\", \"name\": \"Target\"}], \"column_identifiers\": [\"Source\", \"Target\"]}, \"columns\": [{\"dtype\": \"str\", \"name\": \"Source\"}, {\"dtype\": \"str\", \"name\": \"Target\"}]}, e);\n",
       "                });\n",
       "            })();\n",
       "        "
      ]
     },
     "metadata": {},
     "output_type": "display_data"
    }
   ],
   "source": [
    "vert1.show()\n",
    "vert2.show()\n",
    "ed.show()"
   ]
  },
  {
   "cell_type": "code",
   "execution_count": 4,
   "metadata": {
    "collapsed": false
   },
   "outputs": [],
   "source": [
    "g = gl.SGraph()\n",
    "g = g.add_vertices(vertices=vert1, vid_field='State')\n",
    "g = g.add_vertices(vertices=vert2, vid_field='Legal_Base')\n",
    "g = g.add_edges(edges=ed, src_field='Source', dst_field='Target')"
   ]
  },
  {
   "cell_type": "code",
   "execution_count": 5,
   "metadata": {
    "collapsed": false
   },
   "outputs": [
    {
     "data": {
      "text/html": [
       "<div style=\"max-height:1000px;max-width:1500px;overflow:auto;\"><table frame=\"box\" rules=\"cols\">\n",
       "    <tr>\n",
       "        <th style=\"padding-left: 1em; padding-right: 1em; text-align: center\">__id</th>\n",
       "        <th style=\"padding-left: 1em; padding-right: 1em; text-align: center\">Region</th>\n",
       "    </tr>\n",
       "    <tr>\n",
       "        <td style=\"padding-left: 1em; padding-right: 1em; text-align: center; vertical-align: top\">Michigan</td>\n",
       "        <td style=\"padding-left: 1em; padding-right: 1em; text-align: center; vertical-align: top\">Midwest</td>\n",
       "    </tr>\n",
       "    <tr>\n",
       "        <td style=\"padding-left: 1em; padding-right: 1em; text-align: center; vertical-align: top\">Maine</td>\n",
       "        <td style=\"padding-left: 1em; padding-right: 1em; text-align: center; vertical-align: top\">Northeast</td>\n",
       "    </tr>\n",
       "    <tr>\n",
       "        <td style=\"padding-left: 1em; padding-right: 1em; text-align: center; vertical-align: top\">Vermont</td>\n",
       "        <td style=\"padding-left: 1em; padding-right: 1em; text-align: center; vertical-align: top\">Northeast</td>\n",
       "    </tr>\n",
       "    <tr>\n",
       "        <td style=\"padding-left: 1em; padding-right: 1em; text-align: center; vertical-align: top\">South Carolina</td>\n",
       "        <td style=\"padding-left: 1em; padding-right: 1em; text-align: center; vertical-align: top\">South</td>\n",
       "    </tr>\n",
       "    <tr>\n",
       "        <td style=\"padding-left: 1em; padding-right: 1em; text-align: center; vertical-align: top\">impotence</td>\n",
       "        <td style=\"padding-left: 1em; padding-right: 1em; text-align: center; vertical-align: top\">None</td>\n",
       "    </tr>\n",
       "    <tr>\n",
       "        <td style=\"padding-left: 1em; padding-right: 1em; text-align: center; vertical-align: top\">Minnesota</td>\n",
       "        <td style=\"padding-left: 1em; padding-right: 1em; text-align: center; vertical-align: top\">Midwest</td>\n",
       "    </tr>\n",
       "    <tr>\n",
       "        <td style=\"padding-left: 1em; padding-right: 1em; text-align: center; vertical-align: top\">Wisconsin</td>\n",
       "        <td style=\"padding-left: 1em; padding-right: 1em; text-align: center; vertical-align: top\">Midwest</td>\n",
       "    </tr>\n",
       "    <tr>\n",
       "        <td style=\"padding-left: 1em; padding-right: 1em; text-align: center; vertical-align: top\">West Virginia</td>\n",
       "        <td style=\"padding-left: 1em; padding-right: 1em; text-align: center; vertical-align: top\">South</td>\n",
       "    </tr>\n",
       "    <tr>\n",
       "        <td style=\"padding-left: 1em; padding-right: 1em; text-align: center; vertical-align: top\">Tennessee</td>\n",
       "        <td style=\"padding-left: 1em; padding-right: 1em; text-align: center; vertical-align: top\">South</td>\n",
       "    </tr>\n",
       "    <tr>\n",
       "        <td style=\"padding-left: 1em; padding-right: 1em; text-align: center; vertical-align: top\">Nevada</td>\n",
       "        <td style=\"padding-left: 1em; padding-right: 1em; text-align: center; vertical-align: top\">West</td>\n",
       "    </tr>\n",
       "</table>\n",
       "[59 rows x 2 columns]<br/>Note: Only the head of the SFrame is printed.<br/>You can use print_rows(num_rows=m, num_columns=n) to print more rows and columns.\n",
       "</div>"
      ],
      "text/plain": [
       "Columns:\n",
       "\t__id\tstr\n",
       "\tRegion\tstr\n",
       "\n",
       "Rows: 59\n",
       "\n",
       "Data:\n",
       "+----------------+-----------+\n",
       "|      __id      |   Region  |\n",
       "+----------------+-----------+\n",
       "|    Michigan    |  Midwest  |\n",
       "|     Maine      | Northeast |\n",
       "|    Vermont     | Northeast |\n",
       "| South Carolina |   South   |\n",
       "|   impotence    |    None   |\n",
       "|   Minnesota    |  Midwest  |\n",
       "|   Wisconsin    |  Midwest  |\n",
       "| West Virginia  |   South   |\n",
       "|   Tennessee    |   South   |\n",
       "|     Nevada     |    West   |\n",
       "+----------------+-----------+\n",
       "[59 rows x 2 columns]\n",
       "Note: Only the head of the SFrame is printed.\n",
       "You can use print_rows(num_rows=m, num_columns=n) to print more rows and columns."
      ]
     },
     "execution_count": 5,
     "metadata": {},
     "output_type": "execute_result"
    }
   ],
   "source": [
    "g.get_vertices()"
   ]
  },
  {
   "cell_type": "code",
   "execution_count": 6,
   "metadata": {
    "collapsed": false
   },
   "outputs": [
    {
     "data": {
      "text/html": [
       "<div style=\"max-height:1000px;max-width:1500px;overflow:auto;\"><table frame=\"box\" rules=\"cols\">\n",
       "    <tr>\n",
       "        <th style=\"padding-left: 1em; padding-right: 1em; text-align: center\">__src_id</th>\n",
       "        <th style=\"padding-left: 1em; padding-right: 1em; text-align: center\">__dst_id</th>\n",
       "    </tr>\n",
       "    <tr>\n",
       "        <td style=\"padding-left: 1em; padding-right: 1em; text-align: center; vertical-align: top\">Maine</td>\n",
       "        <td style=\"padding-left: 1em; padding-right: 1em; text-align: center; vertical-align: top\">impotence</td>\n",
       "    </tr>\n",
       "    <tr>\n",
       "        <td style=\"padding-left: 1em; padding-right: 1em; text-align: center; vertical-align: top\">Maine</td>\n",
       "        <td style=\"padding-left: 1em; padding-right: 1em; text-align: center; vertical-align: top\">alcohol</td>\n",
       "    </tr>\n",
       "    <tr>\n",
       "        <td style=\"padding-left: 1em; padding-right: 1em; text-align: center; vertical-align: top\">South Carolina</td>\n",
       "        <td style=\"padding-left: 1em; padding-right: 1em; text-align: center; vertical-align: top\">alcohol</td>\n",
       "    </tr>\n",
       "    <tr>\n",
       "        <td style=\"padding-left: 1em; padding-right: 1em; text-align: center; vertical-align: top\">Maine</td>\n",
       "        <td style=\"padding-left: 1em; padding-right: 1em; text-align: center; vertical-align: top\">incompatability</td>\n",
       "    </tr>\n",
       "    <tr>\n",
       "        <td style=\"padding-left: 1em; padding-right: 1em; text-align: center; vertical-align: top\">Maine</td>\n",
       "        <td style=\"padding-left: 1em; padding-right: 1em; text-align: center; vertical-align: top\">desertion</td>\n",
       "    </tr>\n",
       "    <tr>\n",
       "        <td style=\"padding-left: 1em; padding-right: 1em; text-align: center; vertical-align: top\">Maine</td>\n",
       "        <td style=\"padding-left: 1em; padding-right: 1em; text-align: center; vertical-align: top\">insanity</td>\n",
       "    </tr>\n",
       "    <tr>\n",
       "        <td style=\"padding-left: 1em; padding-right: 1em; text-align: center; vertical-align: top\">Michigan</td>\n",
       "        <td style=\"padding-left: 1em; padding-right: 1em; text-align: center; vertical-align: top\">incompatability</td>\n",
       "    </tr>\n",
       "    <tr>\n",
       "        <td style=\"padding-left: 1em; padding-right: 1em; text-align: center; vertical-align: top\">South Carolina</td>\n",
       "        <td style=\"padding-left: 1em; padding-right: 1em; text-align: center; vertical-align: top\">desertion</td>\n",
       "    </tr>\n",
       "    <tr>\n",
       "        <td style=\"padding-left: 1em; padding-right: 1em; text-align: center; vertical-align: top\">Vermont</td>\n",
       "        <td style=\"padding-left: 1em; padding-right: 1em; text-align: center; vertical-align: top\">desertion</td>\n",
       "    </tr>\n",
       "    <tr>\n",
       "        <td style=\"padding-left: 1em; padding-right: 1em; text-align: center; vertical-align: top\">Vermont</td>\n",
       "        <td style=\"padding-left: 1em; padding-right: 1em; text-align: center; vertical-align: top\">insanity</td>\n",
       "    </tr>\n",
       "</table>\n",
       "[225 rows x 2 columns]<br/>Note: Only the head of the SFrame is printed.<br/>You can use print_rows(num_rows=m, num_columns=n) to print more rows and columns.\n",
       "</div>"
      ],
      "text/plain": [
       "Columns:\n",
       "\t__src_id\tstr\n",
       "\t__dst_id\tstr\n",
       "\n",
       "Rows: 225\n",
       "\n",
       "Data:\n",
       "+----------------+-----------------+\n",
       "|    __src_id    |     __dst_id    |\n",
       "+----------------+-----------------+\n",
       "|     Maine      |    impotence    |\n",
       "|     Maine      |     alcohol     |\n",
       "| South Carolina |     alcohol     |\n",
       "|     Maine      | incompatability |\n",
       "|     Maine      |    desertion    |\n",
       "|     Maine      |     insanity    |\n",
       "|    Michigan    | incompatability |\n",
       "| South Carolina |    desertion    |\n",
       "|    Vermont     |    desertion    |\n",
       "|    Vermont     |     insanity    |\n",
       "+----------------+-----------------+\n",
       "[225 rows x 2 columns]\n",
       "Note: Only the head of the SFrame is printed.\n",
       "You can use print_rows(num_rows=m, num_columns=n) to print more rows and columns."
      ]
     },
     "execution_count": 6,
     "metadata": {},
     "output_type": "execute_result"
    }
   ],
   "source": [
    "g.get_edges()"
   ]
  },
  {
   "cell_type": "code",
   "execution_count": 7,
   "metadata": {
    "collapsed": false
   },
   "outputs": [
    {
     "data": {
      "application/javascript": [
       "$(\"head\").append($(\"<link/>\").attr({\n",
       "  rel:  \"stylesheet\",\n",
       "  type: \"text/css\",\n",
       "  href: \"//cdnjs.cloudflare.com/ajax/libs/font-awesome/4.1.0/css/font-awesome.min.css\"\n",
       "}));\n",
       "$(\"head\").append($(\"<link/>\").attr({\n",
       "  rel:  \"stylesheet\",\n",
       "  type: \"text/css\",\n",
       "  href: \"https://static.turi.com/products/graphlab-create/2.1/canvas/css/canvas.css\"\n",
       "}));\n",
       "\n",
       "            (function(){\n",
       "\n",
       "                var e = null;\n",
       "                if (typeof element == 'undefined') {\n",
       "                    var scripts = document.getElementsByTagName('script');\n",
       "                    var thisScriptTag = scripts[scripts.length-1];\n",
       "                    var parentDiv = thisScriptTag.parentNode;\n",
       "                    e = document.createElement('div');\n",
       "                    parentDiv.appendChild(e);\n",
       "                } else {\n",
       "                    e = element[0];\n",
       "                }\n",
       "\n",
       "                if (typeof requirejs !== 'undefined') {\n",
       "                    // disable load timeout; ipython_app.js is large and can take a while to load.\n",
       "                    requirejs.config({waitSeconds: 0});\n",
       "                }\n",
       "\n",
       "                require(['https://static.turi.com/products/graphlab-create/2.1/canvas/js/ipython_app.js'], function(IPythonApp){\n",
       "                    var app = new IPythonApp();\n",
       "                    app.attachView('sgraph','View', {\"edges_labels\": null, \"selected_variable\": {\"name\": [\"g\"], \"view_file\": \"sgraph\", \"view_component\": \"View\", \"view_params\": {\"elabel_hover\": false, \"vertex_positions\": null, \"h_offset\": 0.0, \"node_size\": 300, \"ecolor\": [0.37, 0.33, 0.33], \"elabel\": null, \"arrows\": false, \"ewidth\": 1, \"vlabel\": \"id\", \"highlight_color\": [0.69, 0.0, 0.498], \"vcolor\": [0.522, 0.741, 0.0], \"vlabel_hover\": false, \"highlight\": {}, \"v_offset\": 0.03}, \"view_components\": [\"View\"], \"type\": \"SGraph\", \"descriptives_links\": {\"edges\": \"edges\", \"vertices\": \"vertices\"}, \"descriptives\": {\"edges\": 225, \"vertices\": 59}}, \"positions\": null, \"error_type\": 0, \"vertices\": [\"Michigan\", \"Maine\", \"Vermont\", \"South Carolina\", \"impotence\", \"Minnesota\", \"Wisconsin\", \"West Virginia\", \"Tennessee\", \"Nevada\", \"alcohol\", \"Wyoming\", \"Washington\", \"Pennsylvania\", \"Hawaii\", \"Connecticut\", \"desertion\", \"incompatability\", \"insanity\", \"Kansas\", \"Mississippi\", \"Delaware\", \"Oregon\", \"California\", \"Maryland\", \"Arkansas\", \"felony\", \"South Dakota\", \"New Hampshire\", \"New Jersey\", \"Montana\", \"North Dakota\", \"Georgia\", \"Rhode Island\", \"Ohio\", \"Arizona\", \"Alabama\", \"Louisiana\", \"Kentucky\", \"Iowa\", \"North Carolina\", \"Florida\", \"Alaska\", \"separation\", \"Indiana\", \"Illinois\", \"Virginia\", \"Oklahoma\", \"New Mexico\", \"Missouri\", \"Idaho\", \"New York\", \"Colorado\", \"nonsupport\", \"cruelty\", \"Massachusetts\", \"Utah\", \"Texas\", \"Nebraska\"], \"vertices_labels\": [\"Michigan\", \"Maine\", \"Vermont\", \"South Carolina\", \"impotence\", \"Minnesota\", \"Wisconsin\", \"West Virginia\", \"Tennessee\", \"Nevada\", \"alcohol\", \"Wyoming\", \"Washington\", \"Pennsylvania\", \"Hawaii\", \"Connecticut\", \"desertion\", \"incompatability\", \"insanity\", \"Kansas\", \"Mississippi\", \"Delaware\", \"Oregon\", \"California\", \"Maryland\", \"Arkansas\", \"felony\", \"South Dakota\", \"New Hampshire\", \"New Jersey\", \"Montana\", \"North Dakota\", \"Georgia\", \"Rhode Island\", \"Ohio\", \"Arizona\", \"Alabama\", \"Louisiana\", \"Kentucky\", \"Iowa\", \"North Carolina\", \"Florida\", \"Alaska\", \"separation\", \"Indiana\", \"Illinois\", \"Virginia\", \"Oklahoma\", \"New Mexico\", \"Missouri\", \"Idaho\", \"New York\", \"Colorado\", \"nonsupport\", \"cruelty\", \"Massachusetts\", \"Utah\", \"Texas\", \"Nebraska\"], \"edges\": [[\"Maine\", \"impotence\"], [\"Maine\", \"alcohol\"], [\"South Carolina\", \"alcohol\"], [\"Maine\", \"incompatability\"], [\"Maine\", \"desertion\"], [\"Maine\", \"insanity\"], [\"Michigan\", \"incompatability\"], [\"South Carolina\", \"desertion\"], [\"Vermont\", \"desertion\"], [\"Vermont\", \"insanity\"], [\"Vermont\", \"felony\"], [\"South Carolina\", \"separation\"], [\"Vermont\", \"separation\"], [\"Maine\", \"cruelty\"], [\"Maine\", \"nonsupport\"], [\"South Carolina\", \"cruelty\"], [\"Vermont\", \"cruelty\"], [\"Vermont\", \"nonsupport\"], [\"Tennessee\", \"impotence\"], [\"Tennessee\", \"alcohol\"], [\"West Virginia\", \"alcohol\"], [\"Minnesota\", \"incompatability\"], [\"Nevada\", \"incompatability\"], [\"Nevada\", \"insanity\"], [\"Tennessee\", \"incompatability\"], [\"Tennessee\", \"desertion\"], [\"West Virginia\", \"incompatability\"], [\"West Virginia\", \"desertion\"], [\"West Virginia\", \"insanity\"], [\"Wisconsin\", \"incompatability\"], [\"Tennessee\", \"felony\"], [\"West Virginia\", \"felony\"], [\"Nevada\", \"separation\"], [\"West Virginia\", \"separation\"], [\"Wisconsin\", \"separation\"], [\"Tennessee\", \"cruelty\"], [\"Tennessee\", \"nonsupport\"], [\"West Virginia\", \"cruelty\"], [\"Pennsylvania\", \"impotence\"], [\"Connecticut\", \"alcohol\"], [\"Pennsylvania\", \"desertion\"], [\"Pennsylvania\", \"insanity\"], [\"Washington\", \"incompatability\"], [\"Wyoming\", \"incompatability\"], [\"Wyoming\", \"insanity\"], [\"Connecticut\", \"incompatability\"], [\"Connecticut\", \"desertion\"], [\"Connecticut\", \"insanity\"], [\"Hawaii\", \"incompatability\"], [\"Pennsylvania\", \"felony\"], [\"Connecticut\", \"felony\"], [\"Washington\", \"separation\"], [\"Wyoming\", \"separation\"], [\"Connecticut\", \"separation\"], [\"Hawaii\", \"separation\"], [\"Pennsylvania\", \"cruelty\"], [\"Connecticut\", \"cruelty\"], [\"Connecticut\", \"nonsupport\"], [\"Kansas\", \"impotence\"], [\"Maryland\", \"impotence\"], [\"Mississippi\", \"impotence\"], [\"Arkansas\", \"impotence\"], [\"Kansas\", \"alcohol\"], [\"Mississippi\", \"alcohol\"], [\"Arkansas\", \"alcohol\"], [\"Oregon\", \"incompatability\"], [\"Kansas\", \"incompatability\"], [\"Kansas\", \"desertion\"], [\"Kansas\", \"insanity\"], [\"Maryland\", \"desertion\"], [\"Maryland\", \"insanity\"], [\"Mississippi\", \"incompatability\"], [\"Mississippi\", \"desertion\"], [\"Mississippi\", \"insanity\"], [\"Arkansas\", \"desertion\"], [\"Arkansas\", \"insanity\"], [\"California\", \"incompatability\"], [\"California\", \"insanity\"], [\"Delaware\", \"incompatability\"], [\"Kansas\", \"felony\"], [\"Maryland\", \"felony\"], [\"Mississippi\", \"felony\"], [\"Arkansas\", \"felony\"], [\"Maryland\", \"separation\"], [\"Arkansas\", \"separation\"], [\"Delaware\", \"separation\"], [\"Kansas\", \"cruelty\"], [\"Maryland\", \"cruelty\"], [\"Mississippi\", \"cruelty\"], [\"Arkansas\", \"cruelty\"], [\"Arkansas\", \"nonsupport\"], [\"New Hampshire\", \"impotence\"], [\"North Dakota\", \"impotence\"], [\"Ohio\", \"impotence\"], [\"Rhode Island\", \"impotence\"], [\"Alabama\", \"impotence\"], [\"Georgia\", \"impotence\"], [\"New Hampshire\", \"alcohol\"], [\"New Jersey\", \"alcohol\"], [\"North Dakota\", \"alcohol\"], [\"Ohio\", \"alcohol\"], [\"Rhode Island\", \"alcohol\"], [\"South Dakota\", \"alcohol\"], [\"Alabama\", \"alcohol\"], [\"Georgia\", \"alcohol\"], [\"New Hampshire\", \"incompatability\"], [\"New Hampshire\", \"desertion\"], [\"New Jersey\", \"desertion\"], [\"New Jersey\", \"insanity\"], [\"North Dakota\", \"incompatability\"], [\"North Dakota\", \"desertion\"], [\"North Dakota\", \"insanity\"], [\"Ohio\", \"incompatability\"], [\"Ohio\", \"desertion\"], [\"Rhode Island\", \"incompatability\"], [\"Rhode Island\", \"desertion\"], [\"Montana\", \"incompatability\"], [\"South Dakota\", \"desertion\"], [\"Alabama\", \"incompatability\"], [\"Alabama\", \"desertion\"], [\"Alabama\", \"insanity\"], [\"Arizona\", \"incompatability\"], [\"Georgia\", \"incompatability\"], [\"Georgia\", \"desertion\"], [\"Georgia\", \"insanity\"], [\"New Hampshire\", \"felony\"], [\"New Jersey\", \"felony\"], [\"North Dakota\", \"felony\"], [\"Ohio\", \"felony\"], [\"Rhode Island\", \"felony\"], [\"South Dakota\", \"felony\"], [\"Alabama\", \"felony\"], [\"Georgia\", \"felony\"], [\"New Jersey\", \"separation\"], [\"Ohio\", \"separation\"], [\"Rhode Island\", \"separation\"], [\"Alabama\", \"separation\"], [\"New Hampshire\", \"cruelty\"], [\"New Hampshire\", \"nonsupport\"], [\"New Jersey\", \"cruelty\"], [\"North Dakota\", \"cruelty\"], [\"North Dakota\", \"nonsupport\"], [\"Ohio\", \"cruelty\"], [\"Rhode Island\", \"cruelty\"], [\"Rhode Island\", \"nonsupport\"], [\"South Dakota\", \"cruelty\"], [\"South Dakota\", \"nonsupport\"], [\"Alabama\", \"cruelty\"], [\"Alabama\", \"nonsupport\"], [\"Georgia\", \"cruelty\"], [\"North Carolina\", \"impotence\"], [\"Alaska\", \"impotence\"], [\"Alaska\", \"alcohol\"], [\"North Carolina\", \"insanity\"], [\"Iowa\", \"incompatability\"], [\"Kentucky\", \"incompatability\"], [\"Alaska\", \"incompatability\"], [\"Alaska\", \"desertion\"], [\"Alaska\", \"insanity\"], [\"Florida\", \"incompatability\"], [\"Florida\", \"insanity\"], [\"Louisiana\", \"felony\"], [\"Alaska\", \"felony\"], [\"North Carolina\", \"separation\"], [\"Louisiana\", \"separation\"], [\"Alaska\", \"cruelty\"], [\"Oklahoma\", \"impotence\"], [\"Illinois\", \"impotence\"], [\"Indiana\", \"impotence\"], [\"Oklahoma\", \"alcohol\"], [\"Illinois\", \"alcohol\"], [\"Idaho\", \"alcohol\"], [\"New Mexico\", \"incompatability\"], [\"New Mexico\", \"desertion\"], [\"New York\", \"desertion\"], [\"Oklahoma\", \"incompatability\"], [\"Oklahoma\", \"desertion\"], [\"Oklahoma\", \"insanity\"], [\"Illinois\", \"desertion\"], [\"Indiana\", \"incompatability\"], [\"Indiana\", \"insanity\"], [\"Missouri\", \"incompatability\"], [\"Colorado\", \"incompatability\"], [\"Idaho\", \"incompatability\"], [\"Idaho\", \"desertion\"], [\"Idaho\", \"insanity\"], [\"New York\", \"felony\"], [\"Oklahoma\", \"felony\"], [\"Illinois\", \"felony\"], [\"Indiana\", \"felony\"], [\"Virginia\", \"felony\"], [\"Idaho\", \"felony\"], [\"New York\", \"separation\"], [\"Idaho\", \"separation\"], [\"Virginia\", \"separation\"], [\"New Mexico\", \"cruelty\"], [\"New York\", \"cruelty\"], [\"Oklahoma\", \"cruelty\"], [\"Oklahoma\", \"nonsupport\"], [\"Illinois\", \"cruelty\"], [\"Virginia\", \"cruelty\"], [\"Idaho\", \"cruelty\"], [\"Idaho\", \"nonsupport\"], [\"Massachusetts\", \"impotence\"], [\"Utah\", \"impotence\"], [\"Massachusetts\", \"alcohol\"], [\"Utah\", \"alcohol\"], [\"Massachusetts\", \"incompatability\"], [\"Massachusetts\", \"desertion\"], [\"Nebraska\", \"incompatability\"], [\"Texas\", \"incompatability\"], [\"Texas\", \"desertion\"], [\"Texas\", \"insanity\"], [\"Utah\", \"desertion\"], [\"Utah\", \"insanity\"], [\"Massachusetts\", \"felony\"], [\"Texas\", \"felony\"], [\"Utah\", \"felony\"], [\"Massachusetts\", \"separation\"], [\"Texas\", \"separation\"], [\"Massachusetts\", \"cruelty\"], [\"Massachusetts\", \"nonsupport\"], [\"Texas\", \"cruelty\"], [\"Utah\", \"cruelty\"], [\"Utah\", \"nonsupport\"]], \"ipython\": true, \"error_msg\": \"\"}, e);\n",
       "                });\n",
       "            })();\n",
       "        "
      ]
     },
     "metadata": {},
     "output_type": "display_data"
    }
   ],
   "source": [
    "g.show(vlabel='id')"
   ]
  },
  {
   "cell_type": "code",
   "execution_count": 8,
   "metadata": {
    "collapsed": false
   },
   "outputs": [],
   "source": [
    "v0 = pd.read_csv('divorce_vertices.csv')\n",
    "v1 = pd.read_csv('state_vertices.csv')\n",
    "e = pd.read_csv('divorce_edges.csv')"
   ]
  },
  {
   "cell_type": "code",
   "execution_count": 9,
   "metadata": {
    "collapsed": false
   },
   "outputs": [
    {
     "data": {
      "text/html": [
       "<div>\n",
       "<table border=\"1\" class=\"dataframe\">\n",
       "  <thead>\n",
       "    <tr style=\"text-align: right;\">\n",
       "      <th></th>\n",
       "      <th>Source</th>\n",
       "      <th>Target</th>\n",
       "    </tr>\n",
       "  </thead>\n",
       "  <tbody>\n",
       "    <tr>\n",
       "      <th>0</th>\n",
       "      <td>Alabama</td>\n",
       "      <td>incompatability</td>\n",
       "    </tr>\n",
       "    <tr>\n",
       "      <th>1</th>\n",
       "      <td>Alabama</td>\n",
       "      <td>cruelty</td>\n",
       "    </tr>\n",
       "    <tr>\n",
       "      <th>2</th>\n",
       "      <td>Alabama</td>\n",
       "      <td>desertion</td>\n",
       "    </tr>\n",
       "    <tr>\n",
       "      <th>3</th>\n",
       "      <td>Alabama</td>\n",
       "      <td>nonsupport</td>\n",
       "    </tr>\n",
       "    <tr>\n",
       "      <th>4</th>\n",
       "      <td>Alabama</td>\n",
       "      <td>alcohol</td>\n",
       "    </tr>\n",
       "  </tbody>\n",
       "</table>\n",
       "</div>"
      ],
      "text/plain": [
       "    Source           Target\n",
       "0  Alabama  incompatability\n",
       "1  Alabama          cruelty\n",
       "2  Alabama        desertion\n",
       "3  Alabama       nonsupport\n",
       "4  Alabama          alcohol"
      ]
     },
     "execution_count": 9,
     "metadata": {},
     "output_type": "execute_result"
    }
   ],
   "source": [
    "e.head()"
   ]
  },
  {
   "cell_type": "code",
   "execution_count": 10,
   "metadata": {
    "collapsed": false
   },
   "outputs": [
    {
     "data": {
      "text/html": [
       "<div>\n",
       "<table border=\"1\" class=\"dataframe\">\n",
       "  <thead>\n",
       "    <tr style=\"text-align: right;\">\n",
       "      <th></th>\n",
       "      <th>Legal_Base</th>\n",
       "    </tr>\n",
       "  </thead>\n",
       "  <tbody>\n",
       "    <tr>\n",
       "      <th>0</th>\n",
       "      <td>incompatability</td>\n",
       "    </tr>\n",
       "    <tr>\n",
       "      <th>1</th>\n",
       "      <td>cruelty</td>\n",
       "    </tr>\n",
       "    <tr>\n",
       "      <th>2</th>\n",
       "      <td>desertion</td>\n",
       "    </tr>\n",
       "    <tr>\n",
       "      <th>3</th>\n",
       "      <td>nonsupport</td>\n",
       "    </tr>\n",
       "    <tr>\n",
       "      <th>4</th>\n",
       "      <td>alcohol</td>\n",
       "    </tr>\n",
       "  </tbody>\n",
       "</table>\n",
       "</div>"
      ],
      "text/plain": [
       "        Legal_Base\n",
       "0  incompatability\n",
       "1          cruelty\n",
       "2        desertion\n",
       "3       nonsupport\n",
       "4          alcohol"
      ]
     },
     "execution_count": 10,
     "metadata": {},
     "output_type": "execute_result"
    }
   ],
   "source": [
    "v0.head()"
   ]
  },
  {
   "cell_type": "code",
   "execution_count": 11,
   "metadata": {
    "collapsed": false
   },
   "outputs": [
    {
     "data": {
      "text/html": [
       "<div>\n",
       "<table border=\"1\" class=\"dataframe\">\n",
       "  <thead>\n",
       "    <tr style=\"text-align: right;\">\n",
       "      <th></th>\n",
       "      <th>State</th>\n",
       "      <th>Region</th>\n",
       "    </tr>\n",
       "  </thead>\n",
       "  <tbody>\n",
       "    <tr>\n",
       "      <th>0</th>\n",
       "      <td>Alabama</td>\n",
       "      <td>South</td>\n",
       "    </tr>\n",
       "    <tr>\n",
       "      <th>1</th>\n",
       "      <td>Alaska</td>\n",
       "      <td>West</td>\n",
       "    </tr>\n",
       "    <tr>\n",
       "      <th>2</th>\n",
       "      <td>Arizona</td>\n",
       "      <td>West</td>\n",
       "    </tr>\n",
       "    <tr>\n",
       "      <th>3</th>\n",
       "      <td>Arkansas</td>\n",
       "      <td>South</td>\n",
       "    </tr>\n",
       "    <tr>\n",
       "      <th>4</th>\n",
       "      <td>California</td>\n",
       "      <td>West</td>\n",
       "    </tr>\n",
       "  </tbody>\n",
       "</table>\n",
       "</div>"
      ],
      "text/plain": [
       "        State Region\n",
       "0     Alabama  South\n",
       "1      Alaska   West\n",
       "2     Arizona   West\n",
       "3    Arkansas  South\n",
       "4  California   West"
      ]
     },
     "execution_count": 11,
     "metadata": {},
     "output_type": "execute_result"
    }
   ],
   "source": [
    "v1.head()"
   ]
  },
  {
   "cell_type": "code",
   "execution_count": 23,
   "metadata": {
    "collapsed": true
   },
   "outputs": [],
   "source": [
    "B = nx.Graph()"
   ]
  },
  {
   "cell_type": "code",
   "execution_count": 24,
   "metadata": {
    "collapsed": false
   },
   "outputs": [],
   "source": [
    "vertices0 = [zip(v0['Legal_Base'])]\n",
    "for node in vertices0:\n",
    "    B.add_nodes_from(node,bipartite=0)\n",
    "    \n",
    "vertices1 = [zip(v1['State'])]\n",
    "for node in vertices1:\n",
    "    B.add_nodes_from(node,bipartite=1)"
   ]
  },
  {
   "cell_type": "code",
   "execution_count": 25,
   "metadata": {
    "collapsed": false
   },
   "outputs": [],
   "source": [
    "edges = [zip(e['Source'], e['Target'])]\n",
    "for edge in edges:\n",
    "    B.add_edges_from(edge)"
   ]
  },
  {
   "cell_type": "code",
   "execution_count": 26,
   "metadata": {
    "collapsed": false
   },
   "outputs": [
    {
     "data": {
      "image/png": "[encoded data removed]",
      "text/plain": [
       "<matplotlib.figure.Figure at 0x1607bac8>"
      ]
     },
     "metadata": {},
     "output_type": "display_data"
    }
   ],
   "source": [
    "nx.draw_networkx(B,with_labels=True)\n",
    "plt.show()"
   ]
  },
  {
   "cell_type": "code",
   "execution_count": 32,
   "metadata": {
    "collapsed": false
   },
   "outputs": [
    {
     "name": "stdout",
     "output_type": "stream",
     "text": [
      "Degree Centrality:\n"
     ]
    },
    {
     "data": {
      "text/plain": [
       "{'Alabama': 0.07692307692307693,\n",
       " 'Alaska': 0.05982905982905984,\n",
       " 'Arizona': 0.008547008547008548,\n",
       " 'Arkansas': 0.06837606837606838,\n",
       " 'California': 0.017094017094017096,\n",
       " 'Colorado': 0.008547008547008548,\n",
       " 'Connecticut': 0.06837606837606838,\n",
       " 'Delaware': 0.017094017094017096,\n",
       " 'Florida': 0.017094017094017096,\n",
       " 'Georgia': 0.05982905982905984,\n",
       " 'Hawaii': 0.017094017094017096,\n",
       " 'Idaho': 0.06837606837606838,\n",
       " 'Illinois': 0.042735042735042736,\n",
       " 'Indiana': 0.03418803418803419,\n",
       " 'Iowa': 0.008547008547008548,\n",
       " 'Kansas': 0.05982905982905984,\n",
       " 'Kentucky': 0.008547008547008548,\n",
       " 'Louisiana': 0.017094017094017096,\n",
       " 'Maine': 0.05982905982905984,\n",
       " 'Maryland': 0.05128205128205129,\n",
       " 'Massachusetts': 0.06837606837606838,\n",
       " 'Michigan': 0.008547008547008548,\n",
       " 'Minnesota': 0.008547008547008548,\n",
       " 'Mississippi': 0.05982905982905984,\n",
       " 'Missouri': 0.008547008547008548,\n",
       " 'Montana': 0.008547008547008548,\n",
       " 'Nebraska': 0.008547008547008548,\n",
       " 'Nevada': 0.025641025641025644,\n",
       " 'New Hampshire': 0.05982905982905984,\n",
       " 'New Jersey': 0.05128205128205129,\n",
       " 'New Mexico': 0.025641025641025644,\n",
       " 'New York': 0.03418803418803419,\n",
       " 'North Carolina': 0.025641025641025644,\n",
       " 'North Dakota': 0.06837606837606838,\n",
       " 'Ohio': 0.05982905982905984,\n",
       " 'Oklahoma': 0.06837606837606838,\n",
       " 'Oregon': 0.008547008547008548,\n",
       " 'Pennsylvania': 0.042735042735042736,\n",
       " 'Rhode Island': 0.06837606837606838,\n",
       " 'South Carolina': 0.03418803418803419,\n",
       " 'South Dakota': 0.042735042735042736,\n",
       " 'Tennessee': 0.05982905982905984,\n",
       " 'Texas': 0.05128205128205129,\n",
       " 'Utah': 0.05982905982905984,\n",
       " 'Vermont': 0.05128205128205129,\n",
       " 'Virginia': 0.025641025641025644,\n",
       " 'Washington': 0.017094017094017096,\n",
       " 'West Virginia': 0.05982905982905984,\n",
       " 'Wisconsin': 0.017094017094017096,\n",
       " 'Wyoming': 0.025641025641025644,\n",
       " 'alcohol': 0.18803418803418806,\n",
       " 'cruelty': 0.2478632478632479,\n",
       " 'desertion': 0.23931623931623935,\n",
       " 'felony': 0.23931623931623935,\n",
       " 'impotence': 0.17094017094017094,\n",
       " 'incompatability': 0.3162393162393163,\n",
       " 'insanity': 0.20512820512820515,\n",
       " 'nonsupport': 0.11965811965811968,\n",
       " 'separation': 0.1965811965811966,\n",
       " ('Alabama',): 0.0,\n",
       " ('Alaska',): 0.0,\n",
       " ('Arizona',): 0.0,\n",
       " ('Arkansas',): 0.0,\n",
       " ('California',): 0.0,\n",
       " ('Colorado',): 0.0,\n",
       " ('Connecticut',): 0.0,\n",
       " ('Delaware',): 0.0,\n",
       " ('Florida',): 0.0,\n",
       " ('Georgia',): 0.0,\n",
       " ('Hawaii',): 0.0,\n",
       " ('Idaho',): 0.0,\n",
       " ('Illinois',): 0.0,\n",
       " ('Indiana',): 0.0,\n",
       " ('Iowa',): 0.0,\n",
       " ('Kansas',): 0.0,\n",
       " ('Kentucky',): 0.0,\n",
       " ('Louisiana',): 0.0,\n",
       " ('Maine',): 0.0,\n",
       " ('Maryland',): 0.0,\n",
       " ('Massachusetts',): 0.0,\n",
       " ('Michigan',): 0.0,\n",
       " ('Minnesota',): 0.0,\n",
       " ('Mississippi',): 0.0,\n",
       " ('Missouri',): 0.0,\n",
       " ('Montana',): 0.0,\n",
       " ('Nebraska',): 0.0,\n",
       " ('Nevada',): 0.0,\n",
       " ('New Hampshire',): 0.0,\n",
       " ('New Jersey',): 0.0,\n",
       " ('New Mexico',): 0.0,\n",
       " ('New York',): 0.0,\n",
       " ('North Carolina',): 0.0,\n",
       " ('North Dakota',): 0.0,\n",
       " ('Ohio',): 0.0,\n",
       " ('Oklahoma',): 0.0,\n",
       " ('Oregon',): 0.0,\n",
       " ('Pennsylvania',): 0.0,\n",
       " ('Rhode Island',): 0.0,\n",
       " ('South Carolina',): 0.0,\n",
       " ('South Dakota',): 0.0,\n",
       " ('Tennessee',): 0.0,\n",
       " ('Texas',): 0.0,\n",
       " ('Utah',): 0.0,\n",
       " ('Vermont',): 0.0,\n",
       " ('Virginia',): 0.0,\n",
       " ('Washington',): 0.0,\n",
       " ('West Virginia',): 0.0,\n",
       " ('Wisconsin',): 0.0,\n",
       " ('Wyoming',): 0.0,\n",
       " ('alcohol',): 0.0,\n",
       " ('cruelty',): 0.0,\n",
       " ('desertion',): 0.0,\n",
       " ('felony',): 0.0,\n",
       " ('impotence',): 0.0,\n",
       " ('incompatability',): 0.0,\n",
       " ('insanity',): 0.0,\n",
       " ('nonsupport',): 0.0,\n",
       " ('separation',): 0.0}"
      ]
     },
     "execution_count": 32,
     "metadata": {},
     "output_type": "execute_result"
    }
   ],
   "source": [
    "print(\"Degree Centrality:\")\n",
    "dc = nx.degree_centrality(B)\n",
    "dc"
   ]
  },
  {
   "cell_type": "code",
   "execution_count": 33,
   "metadata": {
    "collapsed": false
   },
   "outputs": [
    {
     "name": "stdout",
     "output_type": "stream",
     "text": [
      "Betweenness Centrality:\n"
     ]
    },
    {
     "data": {
      "text/plain": [
       "{'Alabama': 0.004247722715745145,\n",
       " 'Alaska': 0.0025179643638869875,\n",
       " 'Arizona': 0.0,\n",
       " 'Arkansas': 0.0015592974818199174,\n",
       " 'California': 0.00026621536768449113,\n",
       " 'Colorado': 0.0,\n",
       " 'Connecticut': 0.003589407943739673,\n",
       " 'Delaware': 0.0003981494481836842,\n",
       " 'Florida': 0.00026621536768449113,\n",
       " 'Georgia': 0.0025179643638869875,\n",
       " 'Hawaii': 0.0003981494481836842,\n",
       " 'Idaho': 0.003589407943739673,\n",
       " 'Illinois': 0.0002498399121270629,\n",
       " 'Indiana': 0.001134582232477981,\n",
       " 'Iowa': 0.0,\n",
       " 'Kansas': 0.0025179643638869875,\n",
       " 'Kentucky': 0.0,\n",
       " 'Louisiana': 8.362342052260034e-05,\n",
       " 'Maine': 0.0025047937954161955,\n",
       " 'Maryland': 0.0008766196118261632,\n",
       " 'Massachusetts': 0.0035021680278393874,\n",
       " 'Michigan': 0.0,\n",
       " 'Minnesota': 0.0,\n",
       " 'Mississippi': 0.0025179643638869875,\n",
       " 'Missouri': 0.0,\n",
       " 'Montana': 0.0,\n",
       " 'Nebraska': 0.0,\n",
       " 'Nevada': 0.0007644315273243635,\n",
       " 'New Hampshire': 0.002494415572354961,\n",
       " 'New Jersey': 0.0008280054039620627,\n",
       " 'New Mexico': 0.0007171601866211272,\n",
       " 'New York': 0.0003138203774099823,\n",
       " 'North Carolina': 0.00026943447041965823,\n",
       " 'North Dakota': 0.003139903548804529,\n",
       " 'Ohio': 0.002837934173126945,\n",
       " 'Oklahoma': 0.003139903548804529,\n",
       " 'Oregon': 0.0,\n",
       " 'Pennsylvania': 0.00039052809185278814,\n",
       " 'Rhode Island': 0.0035021680278393874,\n",
       " 'South Carolina': 0.00032715006430003617,\n",
       " 'South Dakota': 0.00028728139108928874,\n",
       " 'Tennessee': 0.002494415572354961,\n",
       " 'Texas': 0.0023859940243964707,\n",
       " 'Utah': 0.0008496277630629871,\n",
       " 'Vermont': 0.0009478520742070568,\n",
       " 'Virginia': 0.00019176530361416744,\n",
       " 'Washington': 0.0003981494481836842,\n",
       " 'West Virginia': 0.002890456870494826,\n",
       " 'Wisconsin': 0.0003981494481836842,\n",
       " 'Wyoming': 0.0007644315273243635,\n",
       " 'alcohol': 0.009469055220002123,\n",
       " 'cruelty': 0.02135634499148594,\n",
       " 'desertion': 0.01840170589568773,\n",
       " 'felony': 0.022547568767865827,\n",
       " 'impotence': 0.009325063612490327,\n",
       " 'incompatability': 0.1081999869933321,\n",
       " 'insanity': 0.0199410929778447,\n",
       " 'nonsupport': 0.003317934473239643,\n",
       " 'separation': 0.02572595086999678,\n",
       " ('Alabama',): 0.0,\n",
       " ('Alaska',): 0.0,\n",
       " ('Arizona',): 0.0,\n",
       " ('Arkansas',): 0.0,\n",
       " ('California',): 0.0,\n",
       " ('Colorado',): 0.0,\n",
       " ('Connecticut',): 0.0,\n",
       " ('Delaware',): 0.0,\n",
       " ('Florida',): 0.0,\n",
       " ('Georgia',): 0.0,\n",
       " ('Hawaii',): 0.0,\n",
       " ('Idaho',): 0.0,\n",
       " ('Illinois',): 0.0,\n",
       " ('Indiana',): 0.0,\n",
       " ('Iowa',): 0.0,\n",
       " ('Kansas',): 0.0,\n",
       " ('Kentucky',): 0.0,\n",
       " ('Louisiana',): 0.0,\n",
       " ('Maine',): 0.0,\n",
       " ('Maryland',): 0.0,\n",
       " ('Massachusetts',): 0.0,\n",
       " ('Michigan',): 0.0,\n",
       " ('Minnesota',): 0.0,\n",
       " ('Mississippi',): 0.0,\n",
       " ('Missouri',): 0.0,\n",
       " ('Montana',): 0.0,\n",
       " ('Nebraska',): 0.0,\n",
       " ('Nevada',): 0.0,\n",
       " ('New Hampshire',): 0.0,\n",
       " ('New Jersey',): 0.0,\n",
       " ('New Mexico',): 0.0,\n",
       " ('New York',): 0.0,\n",
       " ('North Carolina',): 0.0,\n",
       " ('North Dakota',): 0.0,\n",
       " ('Ohio',): 0.0,\n",
       " ('Oklahoma',): 0.0,\n",
       " ('Oregon',): 0.0,\n",
       " ('Pennsylvania',): 0.0,\n",
       " ('Rhode Island',): 0.0,\n",
       " ('South Carolina',): 0.0,\n",
       " ('South Dakota',): 0.0,\n",
       " ('Tennessee',): 0.0,\n",
       " ('Texas',): 0.0,\n",
       " ('Utah',): 0.0,\n",
       " ('Vermont',): 0.0,\n",
       " ('Virginia',): 0.0,\n",
       " ('Washington',): 0.0,\n",
       " ('West Virginia',): 0.0,\n",
       " ('Wisconsin',): 0.0,\n",
       " ('Wyoming',): 0.0,\n",
       " ('alcohol',): 0.0,\n",
       " ('cruelty',): 0.0,\n",
       " ('desertion',): 0.0,\n",
       " ('felony',): 0.0,\n",
       " ('impotence',): 0.0,\n",
       " ('incompatability',): 0.0,\n",
       " ('insanity',): 0.0,\n",
       " ('nonsupport',): 0.0,\n",
       " ('separation',): 0.0}"
      ]
     },
     "execution_count": 33,
     "metadata": {},
     "output_type": "execute_result"
    }
   ],
   "source": [
    "print(\"Betweenness Centrality:\")\n",
    "bc = nx.betweenness_centrality(B)\n",
    "bc"
   ]
  },
  {
   "cell_type": "code",
   "execution_count": 35,
   "metadata": {
    "collapsed": true
   },
   "outputs": [],
   "source": [
    "DC = pd.DataFrame(dc.items())\n",
    "DC.columns = ['State','Degree_Centrality']"
   ]
  },
  {
   "cell_type": "code",
   "execution_count": 36,
   "metadata": {
    "collapsed": true
   },
   "outputs": [],
   "source": [
    "BC = pd.DataFrame(bc.items())\n",
    "BC.columns = ['State','Betweenness_Centrality']"
   ]
  },
  {
   "cell_type": "code",
   "execution_count": 43,
   "metadata": {
    "collapsed": false
   },
   "outputs": [
    {
     "data": {
      "text/html": [
       "<div>\n",
       "<table border=\"1\" class=\"dataframe\">\n",
       "  <thead>\n",
       "    <tr style=\"text-align: right;\">\n",
       "      <th></th>\n",
       "      <th>Degree_Centrality</th>\n",
       "      <th>Betweenness_Centrality</th>\n",
       "    </tr>\n",
       "    <tr>\n",
       "      <th>Region</th>\n",
       "      <th></th>\n",
       "      <th></th>\n",
       "    </tr>\n",
       "  </thead>\n",
       "  <tbody>\n",
       "    <tr>\n",
       "      <th>Midwest</th>\n",
       "      <td>0.030627</td>\n",
       "      <td>0.000880</td>\n",
       "    </tr>\n",
       "    <tr>\n",
       "      <th>Northeast</th>\n",
       "      <td>0.056030</td>\n",
       "      <td>0.002008</td>\n",
       "    </tr>\n",
       "    <tr>\n",
       "      <th>South</th>\n",
       "      <td>0.043803</td>\n",
       "      <td>0.001510</td>\n",
       "    </tr>\n",
       "    <tr>\n",
       "      <th>West</th>\n",
       "      <td>0.026956</td>\n",
       "      <td>0.000790</td>\n",
       "    </tr>\n",
       "  </tbody>\n",
       "</table>\n",
       "</div>"
      ],
      "text/plain": [
       "           Degree_Centrality  Betweenness_Centrality\n",
       "Region                                              \n",
       "Midwest             0.030627                0.000880\n",
       "Northeast           0.056030                0.002008\n",
       "South               0.043803                0.001510\n",
       "West                0.026956                0.000790"
      ]
     },
     "execution_count": 43,
     "metadata": {},
     "output_type": "execute_result"
    }
   ],
   "source": [
    "output = pd.merge(v1,DC, on='State')\n",
    "output = pd.merge(output,BC,on='State')\n",
    "output.groupby('Region').mean()"
   ]
  },
  {
   "cell_type": "code",
   "execution_count": 44,
   "metadata": {
    "collapsed": false
   },
   "outputs": [
    {
     "data": {
      "text/html": [
       "<div>\n",
       "<table border=\"1\" class=\"dataframe\">\n",
       "  <thead>\n",
       "    <tr style=\"text-align: right;\">\n",
       "      <th></th>\n",
       "      <th>Degree_Centrality</th>\n",
       "      <th>Betweenness_Centrality</th>\n",
       "    </tr>\n",
       "    <tr>\n",
       "      <th>Region</th>\n",
       "      <th></th>\n",
       "      <th></th>\n",
       "    </tr>\n",
       "  </thead>\n",
       "  <tbody>\n",
       "    <tr>\n",
       "      <th>Midwest</th>\n",
       "      <td>0.367521</td>\n",
       "      <td>0.010566</td>\n",
       "    </tr>\n",
       "    <tr>\n",
       "      <th>Northeast</th>\n",
       "      <td>0.504274</td>\n",
       "      <td>0.018073</td>\n",
       "    </tr>\n",
       "    <tr>\n",
       "      <th>South</th>\n",
       "      <td>0.700855</td>\n",
       "      <td>0.024167</td>\n",
       "    </tr>\n",
       "    <tr>\n",
       "      <th>West</th>\n",
       "      <td>0.350427</td>\n",
       "      <td>0.010266</td>\n",
       "    </tr>\n",
       "  </tbody>\n",
       "</table>\n",
       "</div>"
      ],
      "text/plain": [
       "           Degree_Centrality  Betweenness_Centrality\n",
       "Region                                              \n",
       "Midwest             0.367521                0.010566\n",
       "Northeast           0.504274                0.018073\n",
       "South               0.700855                0.024167\n",
       "West                0.350427                0.010266"
      ]
     },
     "execution_count": 44,
     "metadata": {},
     "output_type": "execute_result"
    }
   ],
   "source": [
    "output.groupby('Region').sum()\n"
   ]
  },
  {
   "cell_type": "code",
   "execution_count": null,
   "metadata": {
    "collapsed": true
   },
   "outputs": [],
   "source": []
  }
 ],
 "metadata": {
  "anaconda-cloud": {},
  "kernelspec": {
   "display_name": "Python (gl-env)",
   "language": "python",
   "name": "gl-env"
  },
  "language_info": {
   "codemirror_mode": {
    "name": "ipython",
    "version": 2
   },
   "file_extension": ".py",
   "mimetype": "text/x-python",
   "name": "python",
   "nbconvert_exporter": "python",
   "pygments_lexer": "ipython2",
   "version": "2.7.11"
  }
 },
 "nbformat": 4,
 "nbformat_minor": 0
}
